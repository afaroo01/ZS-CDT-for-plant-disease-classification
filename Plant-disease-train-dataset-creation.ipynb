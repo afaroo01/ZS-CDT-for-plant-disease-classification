{
 "cells": [
  {
   "cell_type": "code",
   "execution_count": 1,
   "id": "485efcb6",
   "metadata": {
    "_cell_guid": "b1076dfc-b9ad-4769-8c92-a6c4dae69d19",
    "_uuid": "8f2839f25d086af736a60e9eeb907d3b93b6e0e5",
    "execution": {
     "iopub.execute_input": "2024-06-27T03:49:19.673589Z",
     "iopub.status.busy": "2024-06-27T03:49:19.673208Z",
     "iopub.status.idle": "2024-06-27T03:49:21.010450Z",
     "shell.execute_reply": "2024-06-27T03:49:21.009517Z"
    },
    "papermill": {
     "duration": 1.349,
     "end_time": "2024-06-27T03:49:21.012850",
     "exception": false,
     "start_time": "2024-06-27T03:49:19.663850",
     "status": "completed"
    },
    "tags": []
   },
   "outputs": [],
   "source": [
    "import os\n",
    "import shutil\n",
    "import numpy as np\n",
    "import pandas as pd\n",
    "from PIL import Image"
   ]
  },
  {
   "cell_type": "markdown",
   "id": "441f0a2f",
   "metadata": {
    "papermill": {
     "duration": 0.007454,
     "end_time": "2024-06-27T03:49:21.028309",
     "exception": false,
     "start_time": "2024-06-27T03:49:21.020855",
     "status": "completed"
    },
    "tags": []
   },
   "source": [
    "##### Merged Datasets\n",
    "The final dataset is created by mergin following datasets\n",
    "\n",
    "| Dataset                      | no of Samples | no of classes | Link                                                                                                 | Source                                                                                  |\n",
    "| ---------------------------- | ------------- | ------------- | ---------------------------------------------------------------------------------------------------- | --------------------------------------------------------------------------------------- |\n",
    "| Cassava Leaf Disease Dataset | 21400         | 5             | [Cassava Leaf Disease Dataset](https://tensorflow.google.cn/datasets/catalog/cassava)                | Ernest Mwebaze and Timnit Gebru and Andrea Frome and Solomon Nsumba and Jeremy Tusubira |\n",
    "| Rice Leaf Disease Images     | 5932          | 4             | [Rice Leaf Disease Images](https://data.mendeley.com/datasets/fwcj7stb8r/1)                          | Sethy, P. K., Barpanda, N. K., Rath, A. K., & Behera, S. K.                             |\n",
    "| PlantVillage                 | 54303         | 38            | [PlantVillage](https://www.tensorflow.org/datasets/catalog/plant_village)                            | David P. Hughes and Marcel Salath                                                       |\n",
    "| Potato Leaf Disease          | 4072          | 3             | [Potato Leaf Disease](https://www.mdpi.com/2079-9292/10/17/2064)                                     | images collected from the Central Punjab region of Pakistan                             |\n",
    "| Plant Pathelogy              | 2700          | 3             | [Plant Pathelogy](https://www.kaggle.com/c/plant-pathology-2020-fgvc7/data)                          |\n",
    "| ESCA-dataset                 | 1768          | 2             | [ESCA-dataset](https://data.mendeley.com/datasets/89cnxc58kj/1)                                      |                                                                                         |\n",
    "| Sugercane Leaf Image Dataset | 2569          | 5             | [Sugercane Leaf Image Dataset](https://data.mendeley.com/datasets/9424skmnrk/1)                      |\n",
    "| Potato Leaf Disease          | 1500          | 3             | [Potato Leaf Disease](https://www.kaggle.com/datasets/muhammadardiputra/potato-leaf-disease-dataset) |                                                                                         |\n",
    "|Grapes 400 |  1600| 4|[Grapes 400](https://figshare.com/articles/dataset/Healthy_and_Disease_affected_Leaves_of_Grape_Plant/13083890/1)||\n",
    "|Apple Tree Leaf Disease Dataset|1641|5|[Apple Tree Leaf Disease Dataset](https://www.scidb.cn/en/detail?dataSetId=0e1f57004db842f99668d82183afd578)||"
   ]
  },
  {
   "cell_type": "markdown",
   "id": "126712f5",
   "metadata": {
    "papermill": {
     "duration": 0.007408,
     "end_time": "2024-06-27T03:49:21.043456",
     "exception": false,
     "start_time": "2024-06-27T03:49:21.036048",
     "status": "completed"
    },
    "tags": []
   },
   "source": [
    "## Functions"
   ]
  },
  {
   "cell_type": "code",
   "execution_count": 2,
   "id": "dc3da162",
   "metadata": {
    "execution": {
     "iopub.execute_input": "2024-06-27T03:49:21.059784Z",
     "iopub.status.busy": "2024-06-27T03:49:21.059397Z",
     "iopub.status.idle": "2024-06-27T03:49:21.066049Z",
     "shell.execute_reply": "2024-06-27T03:49:21.065251Z"
    },
    "papermill": {
     "duration": 0.016936,
     "end_time": "2024-06-27T03:49:21.067936",
     "exception": false,
     "start_time": "2024-06-27T03:49:21.051000",
     "status": "completed"
    },
    "tags": []
   },
   "outputs": [],
   "source": [
    "def is_valid_image(image_path, min_width=224, min_height=224):\n",
    "    try:\n",
    "        # Check if the image size is large enough\n",
    "        with Image.open(image_path) as img:\n",
    "            width, height = img.size\n",
    "            if width < min_width or height < min_height:\n",
    "                print(f\"Image '{image_path}' does not meet size requirements.\")\n",
    "                return False\n",
    "\n",
    "        # Check for the \"broken data stream\" error\n",
    "        with open(image_path, \"rb\") as img_file:\n",
    "            try:\n",
    "                img = Image.open(img_file)\n",
    "                img.verify()\n",
    "            except (IOError, SyntaxError) as e:\n",
    "                print(f\"Error reading image '{image_path}': {e}\")\n",
    "                return False\n",
    "        return True\n",
    "\n",
    "    except Exception as e:\n",
    "        print(f\"Error checking image validity for '{image_path}': {e}\")\n",
    "        return False"
   ]
  },
  {
   "cell_type": "code",
   "execution_count": 3,
   "id": "a231ca94",
   "metadata": {
    "execution": {
     "iopub.execute_input": "2024-06-27T03:49:21.084148Z",
     "iopub.status.busy": "2024-06-27T03:49:21.083911Z",
     "iopub.status.idle": "2024-06-27T03:49:21.089085Z",
     "shell.execute_reply": "2024-06-27T03:49:21.088299Z"
    },
    "papermill": {
     "duration": 0.015497,
     "end_time": "2024-06-27T03:49:21.090960",
     "exception": false,
     "start_time": "2024-06-27T03:49:21.075463",
     "status": "completed"
    },
    "tags": []
   },
   "outputs": [],
   "source": [
    "def create_folder(folder_path, folder_name):\n",
    "    try:\n",
    "        new_folder_path = os.path.join(folder_path, folder_name)\n",
    "        if not os.path.exists(new_folder_path):\n",
    "            os.makedirs(new_folder_path)\n",
    "            print(f\"Folder '{folder_name}' created at '{folder_path}'.\")\n",
    "        else:\n",
    "            print(f\"Folder '{folder_name}' already exists at '{folder_path}'.\")\n",
    "\n",
    "    except Exception as e:\n",
    "        print(f\"Error: {e}\")"
   ]
  },
  {
   "cell_type": "code",
   "execution_count": 4,
   "id": "36b961eb",
   "metadata": {
    "execution": {
     "iopub.execute_input": "2024-06-27T03:49:21.107080Z",
     "iopub.status.busy": "2024-06-27T03:49:21.106846Z",
     "iopub.status.idle": "2024-06-27T03:49:21.111541Z",
     "shell.execute_reply": "2024-06-27T03:49:21.110804Z"
    },
    "papermill": {
     "duration": 0.014916,
     "end_time": "2024-06-27T03:49:21.113349",
     "exception": false,
     "start_time": "2024-06-27T03:49:21.098433",
     "status": "completed"
    },
    "tags": []
   },
   "outputs": [],
   "source": [
    "def copy_folder(src_folder, dest_folder):\n",
    "    try:\n",
    "        shutil.copytree(src_folder, dest_folder)\n",
    "        print(f\"Folder '{src_folder}' successfully copied to '{dest_folder}'.\")\n",
    "    except shutil.Error as e:\n",
    "        print(f\"Error: {e}\")\n",
    "    except Exception as e:\n",
    "        print(f\"Error: {e}\")"
   ]
  },
  {
   "cell_type": "code",
   "execution_count": 5,
   "id": "4e76f88d",
   "metadata": {
    "execution": {
     "iopub.execute_input": "2024-06-27T03:49:21.129205Z",
     "iopub.status.busy": "2024-06-27T03:49:21.128971Z",
     "iopub.status.idle": "2024-06-27T03:49:21.135063Z",
     "shell.execute_reply": "2024-06-27T03:49:21.134273Z"
    },
    "papermill": {
     "duration": 0.016037,
     "end_time": "2024-06-27T03:49:21.136877",
     "exception": false,
     "start_time": "2024-06-27T03:49:21.120840",
     "status": "completed"
    },
    "tags": []
   },
   "outputs": [],
   "source": [
    "def copy_files(src_folder, dest_folder):\n",
    "    try:\n",
    "        if not os.path.exists(dest_folder):\n",
    "            os.makedirs(dest_folder)\n",
    "\n",
    "        for filename in os.listdir(src_folder):\n",
    "            src_path = os.path.join(src_folder, filename)\n",
    "            dest_path = os.path.join(dest_folder, filename)\n",
    "\n",
    "            if is_valid_image(src_path):\n",
    "                with Image.open(src_path) as img:\n",
    "                    img.save(dest_path)\n",
    "            else:\n",
    "                print(f\"Skipping file '{filename}' due to size less than 224 x 224 pixels.\")\n",
    "\n",
    "        print(f\"All eligible files from '{src_folder}' successfully resized and copied to '{dest_folder}'.\")\n",
    "        \n",
    "    except Exception as e:\n",
    "        print(f\"Error: {e}\")"
   ]
  },
  {
   "cell_type": "code",
   "execution_count": 6,
   "id": "2e884a0f",
   "metadata": {
    "execution": {
     "iopub.execute_input": "2024-06-27T03:49:21.152832Z",
     "iopub.status.busy": "2024-06-27T03:49:21.152597Z",
     "iopub.status.idle": "2024-06-27T03:49:21.156587Z",
     "shell.execute_reply": "2024-06-27T03:49:21.155838Z"
    },
    "papermill": {
     "duration": 0.014065,
     "end_time": "2024-06-27T03:49:21.158421",
     "exception": false,
     "start_time": "2024-06-27T03:49:21.144356",
     "status": "completed"
    },
    "tags": []
   },
   "outputs": [],
   "source": [
    "base_dir = \"/kaggle/working/data\"\n",
    "if not os.path.exists(base_dir):\n",
    "    os.makedirs(base_dir)"
   ]
  },
  {
   "cell_type": "markdown",
   "id": "85b424f4",
   "metadata": {
    "papermill": {
     "duration": 0.00737,
     "end_time": "2024-06-27T03:49:21.173358",
     "exception": false,
     "start_time": "2024-06-27T03:49:21.165988",
     "status": "completed"
    },
    "tags": []
   },
   "source": [
    "## Folder List"
   ]
  },
  {
   "cell_type": "code",
   "execution_count": 7,
   "id": "ab54dfd3",
   "metadata": {
    "execution": {
     "iopub.execute_input": "2024-06-27T03:49:21.189290Z",
     "iopub.status.busy": "2024-06-27T03:49:21.189036Z",
     "iopub.status.idle": "2024-06-27T03:49:21.195612Z",
     "shell.execute_reply": "2024-06-27T03:49:21.194864Z"
    },
    "papermill": {
     "duration": 0.016866,
     "end_time": "2024-06-27T03:49:21.197784",
     "exception": false,
     "start_time": "2024-06-27T03:49:21.180918",
     "status": "completed"
    },
    "tags": []
   },
   "outputs": [],
   "source": [
    "folders = [\n",
    "    'Apple___scab', 'Apple___black_rot', 'Apple___rust', 'Apple___healthy', \n",
    "    'Apple___alternaria_leaf_spot', 'Apple___brown_spot', 'Apple___gray_spot', \n",
    "    \n",
    "    'Bell_pepper___bacterial_spot', 'Bell_pepper___healthy',\n",
    "    \n",
    "    'Blueberry___healthy',    \n",
    " \n",
    "    'Cassava___bacterial_blight', 'Cassava___brown_streak_disease', 'Cassava___green_mottle',\n",
    "    'Cassava___healthy', 'Cassava___mosaic_disease',     \n",
    "   \n",
    "    'Cherry___powdery_mildew', 'Cherry___healthy', 'Corn___gray_leaf_spot', \n",
    "    \n",
    "    'Corn___common_rust', 'Corn___northern_leaf_blight', 'Corn___healthy',    \n",
    "   \n",
    "    'Grape___black_rot', 'Grape___black_measles', 'Grape___isariopsis_leaf_spot', \n",
    "    'Grape___healthy', 'Grape_leaf_blight',\n",
    "    \n",
    "    'Orange___citrus_greening',\n",
    "    \n",
    "    'Peach___bacterial_spot', 'Peach___healthy',\n",
    "    \n",
    "    'Potato___early_blight', 'Potato___late_blight', 'Potato___healthy', 'Potato___bacterial_wilt', \n",
    "    'Potato___nematode', 'Potato___pests', 'Potato___phytophthora', 'Potato___virus',\n",
    "    \n",
    "    'Raspberry___healthy',\n",
    "    \n",
    "    'Rice___bacterial_blight', 'Rice___blast', 'Rice___brown_spot', 'Rice___tungro',\n",
    "    \n",
    "    'Soybean___healthy',\n",
    "    \n",
    "    'Squash___powdery_mildew',\n",
    "    \n",
    "    'Strawberry___leaf_scorch', 'Strawberry___healthy',\n",
    "    \n",
    "    'Sugercane___healthy', 'Sugercane___mosaic', 'Sugercane___red_rot', 'Sugercane___rust', \n",
    "    'Sugercane___yellow_leaf',\n",
    "    \n",
    "    'Tomato___bacterial_spot', 'Tomato___early_blight', 'Tomato___late_blight', \n",
    "    'Tomato___leaf_mold', 'Tomato___septoria_leaf_spot', 'Tomato___spider_mites',\n",
    "    'Tomato___target_spot', 'Tomato___leaf_curl', 'Tomato___mosaic_virus',\n",
    "    'Tomato___healthy',     \n",
    "    ]"
   ]
  },
  {
   "cell_type": "code",
   "execution_count": 8,
   "id": "13006de8",
   "metadata": {
    "execution": {
     "iopub.execute_input": "2024-06-27T03:49:21.214043Z",
     "iopub.status.busy": "2024-06-27T03:49:21.213591Z",
     "iopub.status.idle": "2024-06-27T03:49:21.219392Z",
     "shell.execute_reply": "2024-06-27T03:49:21.218594Z"
    },
    "papermill": {
     "duration": 0.016339,
     "end_time": "2024-06-27T03:49:21.221632",
     "exception": false,
     "start_time": "2024-06-27T03:49:21.205293",
     "status": "completed"
    },
    "tags": []
   },
   "outputs": [
    {
     "data": {
      "text/plain": [
       "61"
      ]
     },
     "execution_count": 8,
     "metadata": {},
     "output_type": "execute_result"
    }
   ],
   "source": [
    "len(folders)"
   ]
  },
  {
   "cell_type": "code",
   "execution_count": 9,
   "id": "b9711c77",
   "metadata": {
    "execution": {
     "iopub.execute_input": "2024-06-27T03:49:21.238576Z",
     "iopub.status.busy": "2024-06-27T03:49:21.238323Z",
     "iopub.status.idle": "2024-06-27T03:49:21.246900Z",
     "shell.execute_reply": "2024-06-27T03:49:21.245768Z"
    },
    "papermill": {
     "duration": 0.018881,
     "end_time": "2024-06-27T03:49:21.248711",
     "exception": false,
     "start_time": "2024-06-27T03:49:21.229830",
     "status": "completed"
    },
    "tags": []
   },
   "outputs": [
    {
     "name": "stdout",
     "output_type": "stream",
     "text": [
      "Folder 'Apple___scab' created at '/kaggle/working/data'.\n",
      "Folder 'Apple___black_rot' created at '/kaggle/working/data'.\n",
      "Folder 'Apple___rust' created at '/kaggle/working/data'.\n",
      "Folder 'Apple___healthy' created at '/kaggle/working/data'.\n",
      "Folder 'Apple___alternaria_leaf_spot' created at '/kaggle/working/data'.\n",
      "Folder 'Apple___brown_spot' created at '/kaggle/working/data'.\n",
      "Folder 'Apple___gray_spot' created at '/kaggle/working/data'.\n",
      "Folder 'Bell_pepper___bacterial_spot' created at '/kaggle/working/data'.\n",
      "Folder 'Bell_pepper___healthy' created at '/kaggle/working/data'.\n",
      "Folder 'Blueberry___healthy' created at '/kaggle/working/data'.\n",
      "Folder 'Cassava___bacterial_blight' created at '/kaggle/working/data'.\n",
      "Folder 'Cassava___brown_streak_disease' created at '/kaggle/working/data'.\n",
      "Folder 'Cassava___green_mottle' created at '/kaggle/working/data'.\n",
      "Folder 'Cassava___healthy' created at '/kaggle/working/data'.\n",
      "Folder 'Cassava___mosaic_disease' created at '/kaggle/working/data'.\n",
      "Folder 'Cherry___powdery_mildew' created at '/kaggle/working/data'.\n",
      "Folder 'Cherry___healthy' created at '/kaggle/working/data'.\n",
      "Folder 'Corn___gray_leaf_spot' created at '/kaggle/working/data'.\n",
      "Folder 'Corn___common_rust' created at '/kaggle/working/data'.\n",
      "Folder 'Corn___northern_leaf_blight' created at '/kaggle/working/data'.\n",
      "Folder 'Corn___healthy' created at '/kaggle/working/data'.\n",
      "Folder 'Grape___black_rot' created at '/kaggle/working/data'.\n",
      "Folder 'Grape___black_measles' created at '/kaggle/working/data'.\n",
      "Folder 'Grape___isariopsis_leaf_spot' created at '/kaggle/working/data'.\n",
      "Folder 'Grape___healthy' created at '/kaggle/working/data'.\n",
      "Folder 'Grape_leaf_blight' created at '/kaggle/working/data'.\n",
      "Folder 'Orange___citrus_greening' created at '/kaggle/working/data'.\n",
      "Folder 'Peach___bacterial_spot' created at '/kaggle/working/data'.\n",
      "Folder 'Peach___healthy' created at '/kaggle/working/data'.\n",
      "Folder 'Potato___early_blight' created at '/kaggle/working/data'.\n",
      "Folder 'Potato___late_blight' created at '/kaggle/working/data'.\n",
      "Folder 'Potato___healthy' created at '/kaggle/working/data'.\n",
      "Folder 'Potato___bacterial_wilt' created at '/kaggle/working/data'.\n",
      "Folder 'Potato___nematode' created at '/kaggle/working/data'.\n",
      "Folder 'Potato___pests' created at '/kaggle/working/data'.\n",
      "Folder 'Potato___phytophthora' created at '/kaggle/working/data'.\n",
      "Folder 'Potato___virus' created at '/kaggle/working/data'.\n",
      "Folder 'Raspberry___healthy' created at '/kaggle/working/data'.\n",
      "Folder 'Rice___bacterial_blight' created at '/kaggle/working/data'.\n",
      "Folder 'Rice___blast' created at '/kaggle/working/data'.\n",
      "Folder 'Rice___brown_spot' created at '/kaggle/working/data'.\n",
      "Folder 'Rice___tungro' created at '/kaggle/working/data'.\n",
      "Folder 'Soybean___healthy' created at '/kaggle/working/data'.\n",
      "Folder 'Squash___powdery_mildew' created at '/kaggle/working/data'.\n",
      "Folder 'Strawberry___leaf_scorch' created at '/kaggle/working/data'.\n",
      "Folder 'Strawberry___healthy' created at '/kaggle/working/data'.\n",
      "Folder 'Sugercane___healthy' created at '/kaggle/working/data'.\n",
      "Folder 'Sugercane___mosaic' created at '/kaggle/working/data'.\n",
      "Folder 'Sugercane___red_rot' created at '/kaggle/working/data'.\n",
      "Folder 'Sugercane___rust' created at '/kaggle/working/data'.\n",
      "Folder 'Sugercane___yellow_leaf' created at '/kaggle/working/data'.\n",
      "Folder 'Tomato___bacterial_spot' created at '/kaggle/working/data'.\n",
      "Folder 'Tomato___early_blight' created at '/kaggle/working/data'.\n",
      "Folder 'Tomato___late_blight' created at '/kaggle/working/data'.\n",
      "Folder 'Tomato___leaf_mold' created at '/kaggle/working/data'.\n",
      "Folder 'Tomato___septoria_leaf_spot' created at '/kaggle/working/data'.\n",
      "Folder 'Tomato___spider_mites' created at '/kaggle/working/data'.\n",
      "Folder 'Tomato___target_spot' created at '/kaggle/working/data'.\n",
      "Folder 'Tomato___leaf_curl' created at '/kaggle/working/data'.\n",
      "Folder 'Tomato___mosaic_virus' created at '/kaggle/working/data'.\n",
      "Folder 'Tomato___healthy' created at '/kaggle/working/data'.\n"
     ]
    }
   ],
   "source": [
    "for folder in folders:\n",
    "    create_folder(base_dir, folder)"
   ]
  },
  {
   "cell_type": "markdown",
   "id": "edd65b45",
   "metadata": {
    "papermill": {
     "duration": 0.007579,
     "end_time": "2024-06-27T03:49:21.264079",
     "exception": false,
     "start_time": "2024-06-27T03:49:21.256500",
     "status": "completed"
    },
    "tags": []
   },
   "source": [
    "## 1. Cassava Leaf Disease Dataset\n",
    "1. Cassava___bacterial_blight\n",
    "2. Cassava___brown_streak_disease\n",
    "3. Cassava___green_mottle\n",
    "4. Cassava___healthy\n",
    "5. Cassava___mosaic_disease"
   ]
  },
  {
   "cell_type": "code",
   "execution_count": 10,
   "id": "49dd15dd",
   "metadata": {
    "execution": {
     "iopub.execute_input": "2024-06-27T03:49:21.281117Z",
     "iopub.status.busy": "2024-06-27T03:49:21.280515Z",
     "iopub.status.idle": "2024-06-27T03:54:40.665081Z",
     "shell.execute_reply": "2024-06-27T03:54:40.664181Z"
    },
    "papermill": {
     "duration": 319.404232,
     "end_time": "2024-06-27T03:54:40.676212",
     "exception": false,
     "start_time": "2024-06-27T03:49:21.271980",
     "status": "completed"
    },
    "tags": []
   },
   "outputs": [
    {
     "name": "stdout",
     "output_type": "stream",
     "text": [
      "All eligible files from '/kaggle/input/cassava-leaf-disease-classification/data/Cassava___bacterial_blight' successfully resized and copied to '/kaggle/working/data/Cassava___bacterial_blight'.\n",
      "All eligible files from '/kaggle/input/cassava-leaf-disease-classification/data/Cassava___brown_streak_disease' successfully resized and copied to '/kaggle/working/data/Cassava___brown_streak_disease'.\n",
      "All eligible files from '/kaggle/input/cassava-leaf-disease-classification/data/Cassava___green_mottle' successfully resized and copied to '/kaggle/working/data/Cassava___green_mottle'.\n",
      "All eligible files from '/kaggle/input/cassava-leaf-disease-classification/data/Cassava___healthy' successfully resized and copied to '/kaggle/working/data/Cassava___healthy'.\n",
      "All eligible files from '/kaggle/input/cassava-leaf-disease-classification/data/Cassava___mosaic_disease' successfully resized and copied to '/kaggle/working/data/Cassava___mosaic_disease'.\n"
     ]
    }
   ],
   "source": [
    "cassava_base = \"/kaggle/input/cassava-leaf-disease-classification/data\"\n",
    "cassava_class_list = ['Cassava___bacterial_blight', 'Cassava___brown_streak_disease', \n",
    "                      'Cassava___green_mottle', 'Cassava___healthy', \n",
    "                      'Cassava___mosaic_disease']\n",
    "for class_ in cassava_class_list:    \n",
    "    copy_files(f\"{cassava_base}/{class_}\", f\"{base_dir}/{class_}\")"
   ]
  },
  {
   "cell_type": "markdown",
   "id": "8176d5ee",
   "metadata": {
    "papermill": {
     "duration": 0.008255,
     "end_time": "2024-06-27T03:54:40.693000",
     "exception": false,
     "start_time": "2024-06-27T03:54:40.684745",
     "status": "completed"
    },
    "tags": []
   },
   "source": [
    "## 2. Rice Leaf Disease Images\n",
    "1. Rice___bacterial_blight\n",
    "1. Rice___blast\n",
    "1. Rice___brown_spot\n",
    "1. Rice___tungro"
   ]
  },
  {
   "cell_type": "code",
   "execution_count": 11,
   "id": "5bf3aa76",
   "metadata": {
    "execution": {
     "iopub.execute_input": "2024-06-27T03:54:40.711151Z",
     "iopub.status.busy": "2024-06-27T03:54:40.710861Z",
     "iopub.status.idle": "2024-06-27T03:55:06.093219Z",
     "shell.execute_reply": "2024-06-27T03:55:06.091935Z"
    },
    "papermill": {
     "duration": 25.394013,
     "end_time": "2024-06-27T03:55:06.095518",
     "exception": false,
     "start_time": "2024-06-27T03:54:40.701505",
     "status": "completed"
    },
    "tags": []
   },
   "outputs": [
    {
     "name": "stdout",
     "output_type": "stream",
     "text": [
      "Error: cannot write mode RGBA as JPEG\n",
      "All eligible files from '/kaggle/input/rice-leaf-disease-image/Blast' successfully resized and copied to '/kaggle/working/data/Rice___blast'.\n",
      "Error: cannot write mode RGBA as JPEG\n",
      "Image '/kaggle/input/rice-leaf-disease-image/Tungro/TUNGRO3_037.jpg' does not meet size requirements.\n",
      "Skipping file 'TUNGRO3_037.jpg' due to size less than 224 x 224 pixels.\n",
      "Image '/kaggle/input/rice-leaf-disease-image/Tungro/TUNGRO3_002.jpg' does not meet size requirements.\n",
      "Skipping file 'TUNGRO3_002.jpg' due to size less than 224 x 224 pixels.\n",
      "Image '/kaggle/input/rice-leaf-disease-image/Tungro/TUNGRO2_010.jpg' does not meet size requirements.\n",
      "Skipping file 'TUNGRO2_010.jpg' due to size less than 224 x 224 pixels.\n",
      "Image '/kaggle/input/rice-leaf-disease-image/Tungro/TUNGRO5_13.jpg' does not meet size requirements.\n",
      "Skipping file 'TUNGRO5_13.jpg' due to size less than 224 x 224 pixels.\n",
      "Image '/kaggle/input/rice-leaf-disease-image/Tungro/TUNGRO4_063.jpg' does not meet size requirements.\n",
      "Skipping file 'TUNGRO4_063.jpg' due to size less than 224 x 224 pixels.\n",
      "Image '/kaggle/input/rice-leaf-disease-image/Tungro/TUNGRO2_046.jpg' does not meet size requirements.\n",
      "Skipping file 'TUNGRO2_046.jpg' due to size less than 224 x 224 pixels.\n",
      "Image '/kaggle/input/rice-leaf-disease-image/Tungro/TUNGRO1_038.jpg' does not meet size requirements.\n",
      "Skipping file 'TUNGRO1_038.jpg' due to size less than 224 x 224 pixels.\n",
      "Image '/kaggle/input/rice-leaf-disease-image/Tungro/TUNGRO2_060.jpg' does not meet size requirements.\n",
      "Skipping file 'TUNGRO2_060.jpg' due to size less than 224 x 224 pixels.\n",
      "Image '/kaggle/input/rice-leaf-disease-image/Tungro/TUNGRO1_012.jpg' does not meet size requirements.\n",
      "Skipping file 'TUNGRO1_012.jpg' due to size less than 224 x 224 pixels.\n",
      "Image '/kaggle/input/rice-leaf-disease-image/Tungro/TUNGRO2_006.jpg' does not meet size requirements.\n",
      "Skipping file 'TUNGRO2_006.jpg' due to size less than 224 x 224 pixels.\n",
      "Image '/kaggle/input/rice-leaf-disease-image/Tungro/TUNGRO2_064.jpg' does not meet size requirements.\n",
      "Skipping file 'TUNGRO2_064.jpg' due to size less than 224 x 224 pixels.\n",
      "Image '/kaggle/input/rice-leaf-disease-image/Tungro/TUNGRO2_050.jpg' does not meet size requirements.\n",
      "Skipping file 'TUNGRO2_050.jpg' due to size less than 224 x 224 pixels.\n",
      "Image '/kaggle/input/rice-leaf-disease-image/Tungro/TUNGRO2_067.jpg' does not meet size requirements.\n",
      "Skipping file 'TUNGRO2_067.jpg' due to size less than 224 x 224 pixels.\n",
      "Image '/kaggle/input/rice-leaf-disease-image/Tungro/TUNGRO5_63.jpg' does not meet size requirements.\n",
      "Skipping file 'TUNGRO5_63.jpg' due to size less than 224 x 224 pixels.\n",
      "Image '/kaggle/input/rice-leaf-disease-image/Tungro/TUNGRO3_077.jpg' does not meet size requirements.\n",
      "Skipping file 'TUNGRO3_077.jpg' due to size less than 224 x 224 pixels.\n",
      "Image '/kaggle/input/rice-leaf-disease-image/Tungro/TUNGRO3_068.jpg' does not meet size requirements.\n",
      "Skipping file 'TUNGRO3_068.jpg' due to size less than 224 x 224 pixels.\n",
      "Image '/kaggle/input/rice-leaf-disease-image/Tungro/TUNGRO3_048.jpg' does not meet size requirements.\n",
      "Skipping file 'TUNGRO3_048.jpg' due to size less than 224 x 224 pixels.\n",
      "Image '/kaggle/input/rice-leaf-disease-image/Tungro/TUNGRO4_046.jpg' does not meet size requirements.\n",
      "Skipping file 'TUNGRO4_046.jpg' due to size less than 224 x 224 pixels.\n",
      "Image '/kaggle/input/rice-leaf-disease-image/Tungro/TUNGRO1_045.jpg' does not meet size requirements.\n",
      "Skipping file 'TUNGRO1_045.jpg' due to size less than 224 x 224 pixels.\n",
      "Image '/kaggle/input/rice-leaf-disease-image/Tungro/TUNGRO1_061.jpg' does not meet size requirements.\n",
      "Skipping file 'TUNGRO1_061.jpg' due to size less than 224 x 224 pixels.\n",
      "Image '/kaggle/input/rice-leaf-disease-image/Tungro/TUNGRO3_012.jpg' does not meet size requirements.\n",
      "Skipping file 'TUNGRO3_012.jpg' due to size less than 224 x 224 pixels.\n",
      "Image '/kaggle/input/rice-leaf-disease-image/Tungro/TUNGRO3_074.jpg' does not meet size requirements.\n",
      "Skipping file 'TUNGRO3_074.jpg' due to size less than 224 x 224 pixels.\n",
      "Image '/kaggle/input/rice-leaf-disease-image/Tungro/TUNGRO5_160.jpg' does not meet size requirements.\n",
      "Skipping file 'TUNGRO5_160.jpg' due to size less than 224 x 224 pixels.\n",
      "Image '/kaggle/input/rice-leaf-disease-image/Tungro/TUNGRO5_1.jpg' does not meet size requirements.\n",
      "Skipping file 'TUNGRO5_1.jpg' due to size less than 224 x 224 pixels.\n",
      "Image '/kaggle/input/rice-leaf-disease-image/Tungro/TUNGRO3_006.jpg' does not meet size requirements.\n",
      "Skipping file 'TUNGRO3_006.jpg' due to size less than 224 x 224 pixels.\n",
      "Image '/kaggle/input/rice-leaf-disease-image/Tungro/TUNGRO2_018.jpg' does not meet size requirements.\n",
      "Skipping file 'TUNGRO2_018.jpg' due to size less than 224 x 224 pixels.\n",
      "Image '/kaggle/input/rice-leaf-disease-image/Tungro/TUNGRO1_044.jpg' does not meet size requirements.\n",
      "Skipping file 'TUNGRO1_044.jpg' due to size less than 224 x 224 pixels.\n",
      "Image '/kaggle/input/rice-leaf-disease-image/Tungro/TUNGRO1_049.jpg' does not meet size requirements.\n",
      "Skipping file 'TUNGRO1_049.jpg' due to size less than 224 x 224 pixels.\n",
      "Image '/kaggle/input/rice-leaf-disease-image/Tungro/TUNGRO4_049.jpg' does not meet size requirements.\n",
      "Skipping file 'TUNGRO4_049.jpg' due to size less than 224 x 224 pixels.\n",
      "Image '/kaggle/input/rice-leaf-disease-image/Tungro/TUNGRO3_044.jpg' does not meet size requirements.\n",
      "Skipping file 'TUNGRO3_044.jpg' due to size less than 224 x 224 pixels.\n",
      "Image '/kaggle/input/rice-leaf-disease-image/Tungro/TUNGRO2_068.jpg' does not meet size requirements.\n",
      "Skipping file 'TUNGRO2_068.jpg' due to size less than 224 x 224 pixels.\n",
      "Image '/kaggle/input/rice-leaf-disease-image/Tungro/TUNGRO3_001.jpg' does not meet size requirements.\n",
      "Skipping file 'TUNGRO3_001.jpg' due to size less than 224 x 224 pixels.\n",
      "Image '/kaggle/input/rice-leaf-disease-image/Tungro/TUNGRO4_050.jpg' does not meet size requirements.\n",
      "Skipping file 'TUNGRO4_050.jpg' due to size less than 224 x 224 pixels.\n",
      "Image '/kaggle/input/rice-leaf-disease-image/Tungro/TUNGRO5_64.jpg' does not meet size requirements.\n",
      "Skipping file 'TUNGRO5_64.jpg' due to size less than 224 x 224 pixels.\n",
      "Image '/kaggle/input/rice-leaf-disease-image/Tungro/TUNGRO2_037.jpg' does not meet size requirements.\n",
      "Skipping file 'TUNGRO2_037.jpg' due to size less than 224 x 224 pixels.\n",
      "Image '/kaggle/input/rice-leaf-disease-image/Tungro/TUNGRO2_011.jpg' does not meet size requirements.\n",
      "Skipping file 'TUNGRO2_011.jpg' due to size less than 224 x 224 pixels.\n",
      "Image '/kaggle/input/rice-leaf-disease-image/Tungro/TUNGRO4_054.jpg' does not meet size requirements.\n",
      "Skipping file 'TUNGRO4_054.jpg' due to size less than 224 x 224 pixels.\n",
      "Image '/kaggle/input/rice-leaf-disease-image/Tungro/TUNGRO2_002.jpg' does not meet size requirements.\n",
      "Skipping file 'TUNGRO2_002.jpg' due to size less than 224 x 224 pixels.\n",
      "Image '/kaggle/input/rice-leaf-disease-image/Tungro/TUNGRO3_005.jpg' does not meet size requirements.\n",
      "Skipping file 'TUNGRO3_005.jpg' due to size less than 224 x 224 pixels.\n",
      "Image '/kaggle/input/rice-leaf-disease-image/Tungro/TUNGRO2_052.jpg' does not meet size requirements.\n",
      "Skipping file 'TUNGRO2_052.jpg' due to size less than 224 x 224 pixels.\n",
      "Image '/kaggle/input/rice-leaf-disease-image/Tungro/TUNGRO3_060.jpg' does not meet size requirements.\n",
      "Skipping file 'TUNGRO3_060.jpg' due to size less than 224 x 224 pixels.\n",
      "Image '/kaggle/input/rice-leaf-disease-image/Tungro/TUNGRO2_013.jpg' does not meet size requirements.\n",
      "Skipping file 'TUNGRO2_013.jpg' due to size less than 224 x 224 pixels.\n",
      "Image '/kaggle/input/rice-leaf-disease-image/Tungro/TUNGRO4_048.jpg' does not meet size requirements.\n",
      "Skipping file 'TUNGRO4_048.jpg' due to size less than 224 x 224 pixels.\n",
      "Image '/kaggle/input/rice-leaf-disease-image/Tungro/TUNGRO5_153.jpg' does not meet size requirements.\n",
      "Skipping file 'TUNGRO5_153.jpg' due to size less than 224 x 224 pixels.\n",
      "Image '/kaggle/input/rice-leaf-disease-image/Tungro/TUNGRO1_016.jpg' does not meet size requirements.\n",
      "Skipping file 'TUNGRO1_016.jpg' due to size less than 224 x 224 pixels.\n",
      "Image '/kaggle/input/rice-leaf-disease-image/Tungro/TUNGRO3_047.jpg' does not meet size requirements.\n",
      "Skipping file 'TUNGRO3_047.jpg' due to size less than 224 x 224 pixels.\n",
      "Image '/kaggle/input/rice-leaf-disease-image/Tungro/TUNGRO2_016.jpg' does not meet size requirements.\n",
      "Skipping file 'TUNGRO2_016.jpg' due to size less than 224 x 224 pixels.\n",
      "Image '/kaggle/input/rice-leaf-disease-image/Tungro/TUNGRO3_008.jpg' does not meet size requirements.\n",
      "Skipping file 'TUNGRO3_008.jpg' due to size less than 224 x 224 pixels.\n",
      "Image '/kaggle/input/rice-leaf-disease-image/Tungro/TUNGRO4_052.jpg' does not meet size requirements.\n",
      "Skipping file 'TUNGRO4_052.jpg' due to size less than 224 x 224 pixels.\n",
      "Image '/kaggle/input/rice-leaf-disease-image/Tungro/TUNGRO3_046.jpg' does not meet size requirements.\n",
      "Skipping file 'TUNGRO3_046.jpg' due to size less than 224 x 224 pixels.\n",
      "Image '/kaggle/input/rice-leaf-disease-image/Tungro/TUNGRO2_062.jpg' does not meet size requirements.\n",
      "Skipping file 'TUNGRO2_062.jpg' due to size less than 224 x 224 pixels.\n",
      "Image '/kaggle/input/rice-leaf-disease-image/Tungro/TUNGRO3_040.jpg' does not meet size requirements.\n",
      "Skipping file 'TUNGRO3_040.jpg' due to size less than 224 x 224 pixels.\n",
      "Image '/kaggle/input/rice-leaf-disease-image/Tungro/TUNGRO2_066.jpg' does not meet size requirements.\n",
      "Skipping file 'TUNGRO2_066.jpg' due to size less than 224 x 224 pixels.\n",
      "Image '/kaggle/input/rice-leaf-disease-image/Tungro/TUNGRO3_014.jpg' does not meet size requirements.\n",
      "Skipping file 'TUNGRO3_014.jpg' due to size less than 224 x 224 pixels.\n",
      "Image '/kaggle/input/rice-leaf-disease-image/Tungro/TUNGRO3_045.jpg' does not meet size requirements.\n",
      "Skipping file 'TUNGRO3_045.jpg' due to size less than 224 x 224 pixels.\n",
      "Image '/kaggle/input/rice-leaf-disease-image/Tungro/TUNGRO4_079.jpg' does not meet size requirements.\n",
      "Skipping file 'TUNGRO4_079.jpg' due to size less than 224 x 224 pixels.\n",
      "Image '/kaggle/input/rice-leaf-disease-image/Tungro/TUNGRO4_026.jpg' does not meet size requirements.\n",
      "Skipping file 'TUNGRO4_026.jpg' due to size less than 224 x 224 pixels.\n",
      "Image '/kaggle/input/rice-leaf-disease-image/Tungro/TUNGRO4_053.jpg' does not meet size requirements.\n",
      "Skipping file 'TUNGRO4_053.jpg' due to size less than 224 x 224 pixels.\n",
      "Image '/kaggle/input/rice-leaf-disease-image/Tungro/TUNGRO3_010.jpg' does not meet size requirements.\n",
      "Skipping file 'TUNGRO3_010.jpg' due to size less than 224 x 224 pixels.\n",
      "Image '/kaggle/input/rice-leaf-disease-image/Tungro/TUNGRO3_063.jpg' does not meet size requirements.\n",
      "Skipping file 'TUNGRO3_063.jpg' due to size less than 224 x 224 pixels.\n",
      "Image '/kaggle/input/rice-leaf-disease-image/Tungro/TUNGRO2_008.jpg' does not meet size requirements.\n",
      "Skipping file 'TUNGRO2_008.jpg' due to size less than 224 x 224 pixels.\n",
      "Image '/kaggle/input/rice-leaf-disease-image/Tungro/TUNGRO2_076.jpg' does not meet size requirements.\n",
      "Skipping file 'TUNGRO2_076.jpg' due to size less than 224 x 224 pixels.\n",
      "Image '/kaggle/input/rice-leaf-disease-image/Tungro/TUNGRO1_067.jpg' does not meet size requirements.\n",
      "Skipping file 'TUNGRO1_067.jpg' due to size less than 224 x 224 pixels.\n",
      "Image '/kaggle/input/rice-leaf-disease-image/Tungro/TUNGRO3_051.jpg' does not meet size requirements.\n",
      "Skipping file 'TUNGRO3_051.jpg' due to size less than 224 x 224 pixels.\n",
      "Image '/kaggle/input/rice-leaf-disease-image/Tungro/TUNGRO2_026.jpg' does not meet size requirements.\n",
      "Skipping file 'TUNGRO2_026.jpg' due to size less than 224 x 224 pixels.\n",
      "Image '/kaggle/input/rice-leaf-disease-image/Tungro/TUNGRO3_067.jpg' does not meet size requirements.\n",
      "Skipping file 'TUNGRO3_067.jpg' due to size less than 224 x 224 pixels.\n",
      "Image '/kaggle/input/rice-leaf-disease-image/Tungro/TUNGRO4_067.jpg' does not meet size requirements.\n",
      "Skipping file 'TUNGRO4_067.jpg' due to size less than 224 x 224 pixels.\n",
      "Image '/kaggle/input/rice-leaf-disease-image/Tungro/TUNGRO1_078.jpg' does not meet size requirements.\n",
      "Skipping file 'TUNGRO1_078.jpg' due to size less than 224 x 224 pixels.\n",
      "Image '/kaggle/input/rice-leaf-disease-image/Tungro/TUNGRO3_054.jpg' does not meet size requirements.\n",
      "Skipping file 'TUNGRO3_054.jpg' due to size less than 224 x 224 pixels.\n",
      "Image '/kaggle/input/rice-leaf-disease-image/Tungro/TUNGRO3_015.jpg' does not meet size requirements.\n",
      "Skipping file 'TUNGRO3_015.jpg' due to size less than 224 x 224 pixels.\n",
      "Image '/kaggle/input/rice-leaf-disease-image/Tungro/TUNGRO3_055.jpg' does not meet size requirements.\n",
      "Skipping file 'TUNGRO3_055.jpg' due to size less than 224 x 224 pixels.\n",
      "Image '/kaggle/input/rice-leaf-disease-image/Tungro/TUNGRO4_015.jpg' does not meet size requirements.\n",
      "Skipping file 'TUNGRO4_015.jpg' due to size less than 224 x 224 pixels.\n",
      "Image '/kaggle/input/rice-leaf-disease-image/Tungro/TUNGRO1_011.jpg' does not meet size requirements.\n",
      "Skipping file 'TUNGRO1_011.jpg' due to size less than 224 x 224 pixels.\n",
      "Image '/kaggle/input/rice-leaf-disease-image/Tungro/TUNGRO3_078.jpg' does not meet size requirements.\n",
      "Skipping file 'TUNGRO3_078.jpg' due to size less than 224 x 224 pixels.\n",
      "Image '/kaggle/input/rice-leaf-disease-image/Tungro/TUNGRO1_002.jpg' does not meet size requirements.\n",
      "Skipping file 'TUNGRO1_002.jpg' due to size less than 224 x 224 pixels.\n",
      "Image '/kaggle/input/rice-leaf-disease-image/Tungro/TUNGRO4_016.jpg' does not meet size requirements.\n",
      "Skipping file 'TUNGRO4_016.jpg' due to size less than 224 x 224 pixels.\n",
      "Image '/kaggle/input/rice-leaf-disease-image/Tungro/TUNGRO1_010.jpg' does not meet size requirements.\n",
      "Skipping file 'TUNGRO1_010.jpg' due to size less than 224 x 224 pixels.\n",
      "Image '/kaggle/input/rice-leaf-disease-image/Tungro/TUNGRO2_012.jpg' does not meet size requirements.\n",
      "Skipping file 'TUNGRO2_012.jpg' due to size less than 224 x 224 pixels.\n",
      "Image '/kaggle/input/rice-leaf-disease-image/Tungro/TUNGRO2_038.jpg' does not meet size requirements.\n",
      "Skipping file 'TUNGRO2_038.jpg' due to size less than 224 x 224 pixels.\n",
      "Image '/kaggle/input/rice-leaf-disease-image/Tungro/TUNGRO4_061.jpg' does not meet size requirements.\n",
      "Skipping file 'TUNGRO4_061.jpg' due to size less than 224 x 224 pixels.\n",
      "Image '/kaggle/input/rice-leaf-disease-image/Tungro/TUNGRO3_076.jpg' does not meet size requirements.\n",
      "Skipping file 'TUNGRO3_076.jpg' due to size less than 224 x 224 pixels.\n",
      "Image '/kaggle/input/rice-leaf-disease-image/Tungro/TUNGRO5_110.jpg' does not meet size requirements.\n",
      "Skipping file 'TUNGRO5_110.jpg' due to size less than 224 x 224 pixels.\n",
      "Image '/kaggle/input/rice-leaf-disease-image/Tungro/TUNGRO2_048.jpg' does not meet size requirements.\n",
      "Skipping file 'TUNGRO2_048.jpg' due to size less than 224 x 224 pixels.\n",
      "Image '/kaggle/input/rice-leaf-disease-image/Tungro/TUNGRO2_009.jpg' does not meet size requirements.\n",
      "Skipping file 'TUNGRO2_009.jpg' due to size less than 224 x 224 pixels.\n",
      "Image '/kaggle/input/rice-leaf-disease-image/Tungro/TUNGRO5_51.jpg' does not meet size requirements.\n",
      "Skipping file 'TUNGRO5_51.jpg' due to size less than 224 x 224 pixels.\n",
      "Image '/kaggle/input/rice-leaf-disease-image/Tungro/TUNGRO1_026.jpg' does not meet size requirements.\n",
      "Skipping file 'TUNGRO1_026.jpg' due to size less than 224 x 224 pixels.\n",
      "Image '/kaggle/input/rice-leaf-disease-image/Tungro/TUNGRO1_055.jpg' does not meet size requirements.\n",
      "Skipping file 'TUNGRO1_055.jpg' due to size less than 224 x 224 pixels.\n",
      "Image '/kaggle/input/rice-leaf-disease-image/Tungro/TUNGRO2_079.jpg' does not meet size requirements.\n",
      "Skipping file 'TUNGRO2_079.jpg' due to size less than 224 x 224 pixels.\n",
      "Image '/kaggle/input/rice-leaf-disease-image/Tungro/TUNGRO3_050.jpg' does not meet size requirements.\n",
      "Skipping file 'TUNGRO3_050.jpg' due to size less than 224 x 224 pixels.\n",
      "Image '/kaggle/input/rice-leaf-disease-image/Tungro/TUNGRO4_037.jpg' does not meet size requirements.\n",
      "Skipping file 'TUNGRO4_037.jpg' due to size less than 224 x 224 pixels.\n",
      "Image '/kaggle/input/rice-leaf-disease-image/Tungro/TUNGRO2_047.jpg' does not meet size requirements.\n",
      "Skipping file 'TUNGRO2_047.jpg' due to size less than 224 x 224 pixels.\n",
      "Image '/kaggle/input/rice-leaf-disease-image/Tungro/TUNGRO2_055.jpg' does not meet size requirements.\n",
      "Skipping file 'TUNGRO2_055.jpg' due to size less than 224 x 224 pixels.\n",
      "Image '/kaggle/input/rice-leaf-disease-image/Tungro/TUNGRO5_154.jpg' does not meet size requirements.\n",
      "Skipping file 'TUNGRO5_154.jpg' due to size less than 224 x 224 pixels.\n",
      "Image '/kaggle/input/rice-leaf-disease-image/Tungro/TUNGRO4_047.jpg' does not meet size requirements.\n",
      "Skipping file 'TUNGRO4_047.jpg' due to size less than 224 x 224 pixels.\n",
      "Image '/kaggle/input/rice-leaf-disease-image/Tungro/TUNGRO5_151.jpg' does not meet size requirements.\n",
      "Skipping file 'TUNGRO5_151.jpg' due to size less than 224 x 224 pixels.\n",
      "Image '/kaggle/input/rice-leaf-disease-image/Tungro/TUNGRO1_014.jpg' does not meet size requirements.\n",
      "Skipping file 'TUNGRO1_014.jpg' due to size less than 224 x 224 pixels.\n",
      "Image '/kaggle/input/rice-leaf-disease-image/Tungro/TUNGRO2_075.jpg' does not meet size requirements.\n",
      "Skipping file 'TUNGRO2_075.jpg' due to size less than 224 x 224 pixels.\n",
      "Image '/kaggle/input/rice-leaf-disease-image/Tungro/TUNGRO1_050.jpg' does not meet size requirements.\n",
      "Skipping file 'TUNGRO1_050.jpg' due to size less than 224 x 224 pixels.\n",
      "Image '/kaggle/input/rice-leaf-disease-image/Tungro/TUNGRO4_040.jpg' does not meet size requirements.\n",
      "Skipping file 'TUNGRO4_040.jpg' due to size less than 224 x 224 pixels.\n",
      "Image '/kaggle/input/rice-leaf-disease-image/Tungro/TUNGRO1_047.jpg' does not meet size requirements.\n",
      "Skipping file 'TUNGRO1_047.jpg' due to size less than 224 x 224 pixels.\n",
      "Image '/kaggle/input/rice-leaf-disease-image/Tungro/TUNGRO1_066.jpg' does not meet size requirements.\n",
      "Skipping file 'TUNGRO1_066.jpg' due to size less than 224 x 224 pixels.\n",
      "Image '/kaggle/input/rice-leaf-disease-image/Tungro/TUNGRO3_065.jpg' does not meet size requirements.\n",
      "Skipping file 'TUNGRO3_065.jpg' due to size less than 224 x 224 pixels.\n",
      "Image '/kaggle/input/rice-leaf-disease-image/Tungro/TUNGRO3_061.jpg' does not meet size requirements.\n",
      "Skipping file 'TUNGRO3_061.jpg' due to size less than 224 x 224 pixels.\n",
      "Image '/kaggle/input/rice-leaf-disease-image/Tungro/TUNGRO4_011.jpg' does not meet size requirements.\n",
      "Skipping file 'TUNGRO4_011.jpg' due to size less than 224 x 224 pixels.\n",
      "Image '/kaggle/input/rice-leaf-disease-image/Tungro/TUNGRO5_109.jpg' does not meet size requirements.\n",
      "Skipping file 'TUNGRO5_109.jpg' due to size less than 224 x 224 pixels.\n",
      "Image '/kaggle/input/rice-leaf-disease-image/Tungro/TUNGRO4_044.jpg' does not meet size requirements.\n",
      "Skipping file 'TUNGRO4_044.jpg' due to size less than 224 x 224 pixels.\n",
      "Image '/kaggle/input/rice-leaf-disease-image/Tungro/TUNGRO3_066.jpg' does not meet size requirements.\n",
      "Skipping file 'TUNGRO3_066.jpg' due to size less than 224 x 224 pixels.\n",
      "Image '/kaggle/input/rice-leaf-disease-image/Tungro/TUNGRO4_066.jpg' does not meet size requirements.\n",
      "Skipping file 'TUNGRO4_066.jpg' due to size less than 224 x 224 pixels.\n",
      "Image '/kaggle/input/rice-leaf-disease-image/Tungro/TUNGRO3_075.jpg' does not meet size requirements.\n",
      "Skipping file 'TUNGRO3_075.jpg' due to size less than 224 x 224 pixels.\n",
      "Image '/kaggle/input/rice-leaf-disease-image/Tungro/TUNGRO2_054.jpg' does not meet size requirements.\n",
      "Skipping file 'TUNGRO2_054.jpg' due to size less than 224 x 224 pixels.\n",
      "Image '/kaggle/input/rice-leaf-disease-image/Tungro/TUNGRO2_087.jpg' does not meet size requirements.\n",
      "Skipping file 'TUNGRO2_087.jpg' due to size less than 224 x 224 pixels.\n",
      "Image '/kaggle/input/rice-leaf-disease-image/Tungro/TUNGRO4_087.jpg' does not meet size requirements.\n",
      "Skipping file 'TUNGRO4_087.jpg' due to size less than 224 x 224 pixels.\n",
      "Image '/kaggle/input/rice-leaf-disease-image/Tungro/TUNGRO2_040.jpg' does not meet size requirements.\n",
      "Skipping file 'TUNGRO2_040.jpg' due to size less than 224 x 224 pixels.\n",
      "Image '/kaggle/input/rice-leaf-disease-image/Tungro/TUNGRO2_078.jpg' does not meet size requirements.\n",
      "Skipping file 'TUNGRO2_078.jpg' due to size less than 224 x 224 pixels.\n",
      "Image '/kaggle/input/rice-leaf-disease-image/Tungro/TUNGRO1_009.jpg' does not meet size requirements.\n",
      "Skipping file 'TUNGRO1_009.jpg' due to size less than 224 x 224 pixels.\n",
      "Image '/kaggle/input/rice-leaf-disease-image/Tungro/TUNGRO3_062.jpg' does not meet size requirements.\n",
      "Skipping file 'TUNGRO3_062.jpg' due to size less than 224 x 224 pixels.\n",
      "Image '/kaggle/input/rice-leaf-disease-image/Tungro/TUNGRO5_59.jpg' does not meet size requirements.\n",
      "Skipping file 'TUNGRO5_59.jpg' due to size less than 224 x 224 pixels.\n",
      "Image '/kaggle/input/rice-leaf-disease-image/Tungro/TUNGRO3_018.jpg' does not meet size requirements.\n",
      "Skipping file 'TUNGRO3_018.jpg' due to size less than 224 x 224 pixels.\n",
      "Image '/kaggle/input/rice-leaf-disease-image/Tungro/TUNGRO2_053.jpg' does not meet size requirements.\n",
      "Skipping file 'TUNGRO2_053.jpg' due to size less than 224 x 224 pixels.\n",
      "Image '/kaggle/input/rice-leaf-disease-image/Tungro/TUNGRO4_012.jpg' does not meet size requirements.\n",
      "Skipping file 'TUNGRO4_012.jpg' due to size less than 224 x 224 pixels.\n",
      "Image '/kaggle/input/rice-leaf-disease-image/Tungro/TUNGRO4_065.jpg' does not meet size requirements.\n",
      "Skipping file 'TUNGRO4_065.jpg' due to size less than 224 x 224 pixels.\n",
      "Image '/kaggle/input/rice-leaf-disease-image/Tungro/TUNGRO1_008.jpg' does not meet size requirements.\n",
      "Skipping file 'TUNGRO1_008.jpg' due to size less than 224 x 224 pixels.\n",
      "Image '/kaggle/input/rice-leaf-disease-image/Tungro/TUNGRO4_018.jpg' does not meet size requirements.\n",
      "Skipping file 'TUNGRO4_018.jpg' due to size less than 224 x 224 pixels.\n",
      "Image '/kaggle/input/rice-leaf-disease-image/Tungro/TUNGRO3_016.jpg' does not meet size requirements.\n",
      "Skipping file 'TUNGRO3_016.jpg' due to size less than 224 x 224 pixels.\n",
      "Image '/kaggle/input/rice-leaf-disease-image/Tungro/TUNGRO5_10.jpg' does not meet size requirements.\n",
      "Skipping file 'TUNGRO5_10.jpg' due to size less than 224 x 224 pixels.\n",
      "Image '/kaggle/input/rice-leaf-disease-image/Tungro/TUNGRO5_9.jpg' does not meet size requirements.\n",
      "Skipping file 'TUNGRO5_9.jpg' due to size less than 224 x 224 pixels.\n",
      "Image '/kaggle/input/rice-leaf-disease-image/Tungro/TUNGRO2_077.jpg' does not meet size requirements.\n",
      "Skipping file 'TUNGRO2_077.jpg' due to size less than 224 x 224 pixels.\n",
      "Image '/kaggle/input/rice-leaf-disease-image/Tungro/TUNGRO2_007.jpg' does not meet size requirements.\n",
      "Skipping file 'TUNGRO2_007.jpg' due to size less than 224 x 224 pixels.\n",
      "Image '/kaggle/input/rice-leaf-disease-image/Tungro/TUNGRO5_104.jpg' does not meet size requirements.\n",
      "Skipping file 'TUNGRO5_104.jpg' due to size less than 224 x 224 pixels.\n",
      "Image '/kaggle/input/rice-leaf-disease-image/Tungro/TUNGRO1_065.jpg' does not meet size requirements.\n",
      "Skipping file 'TUNGRO1_065.jpg' due to size less than 224 x 224 pixels.\n",
      "Image '/kaggle/input/rice-leaf-disease-image/Tungro/TUNGRO3_064.jpg' does not meet size requirements.\n",
      "Skipping file 'TUNGRO3_064.jpg' due to size less than 224 x 224 pixels.\n",
      "Image '/kaggle/input/rice-leaf-disease-image/Tungro/TUNGRO1_046.jpg' does not meet size requirements.\n",
      "Skipping file 'TUNGRO1_046.jpg' due to size less than 224 x 224 pixels.\n",
      "Image '/kaggle/input/rice-leaf-disease-image/Tungro/TUNGRO4_074.jpg' does not meet size requirements.\n",
      "Skipping file 'TUNGRO4_074.jpg' due to size less than 224 x 224 pixels.\n",
      "Image '/kaggle/input/rice-leaf-disease-image/Tungro/TUNGRO5_155.jpg' does not meet size requirements.\n",
      "Skipping file 'TUNGRO5_155.jpg' due to size less than 224 x 224 pixels.\n",
      "Image '/kaggle/input/rice-leaf-disease-image/Tungro/TUNGRO4_010.jpg' does not meet size requirements.\n",
      "Skipping file 'TUNGRO4_010.jpg' due to size less than 224 x 224 pixels.\n",
      "Image '/kaggle/input/rice-leaf-disease-image/Tungro/TUNGRO5_157.jpg' does not meet size requirements.\n",
      "Skipping file 'TUNGRO5_157.jpg' due to size less than 224 x 224 pixels.\n",
      "Image '/kaggle/input/rice-leaf-disease-image/Tungro/TUNGRO1_006.jpg' does not meet size requirements.\n",
      "Skipping file 'TUNGRO1_006.jpg' due to size less than 224 x 224 pixels.\n",
      "Image '/kaggle/input/rice-leaf-disease-image/Tungro/TUNGRO5_15.jpg' does not meet size requirements.\n",
      "Skipping file 'TUNGRO5_15.jpg' due to size less than 224 x 224 pixels.\n",
      "Image '/kaggle/input/rice-leaf-disease-image/Tungro/TUNGRO4_007.jpg' does not meet size requirements.\n",
      "Skipping file 'TUNGRO4_007.jpg' due to size less than 224 x 224 pixels.\n",
      "Image '/kaggle/input/rice-leaf-disease-image/Tungro/TUNGRO3_026.jpg' does not meet size requirements.\n",
      "Skipping file 'TUNGRO3_026.jpg' due to size less than 224 x 224 pixels.\n",
      "Image '/kaggle/input/rice-leaf-disease-image/Tungro/TUNGRO3_007.jpg' does not meet size requirements.\n",
      "Skipping file 'TUNGRO3_007.jpg' due to size less than 224 x 224 pixels.\n",
      "Image '/kaggle/input/rice-leaf-disease-image/Tungro/TUNGRO4_062.jpg' does not meet size requirements.\n",
      "Skipping file 'TUNGRO4_062.jpg' due to size less than 224 x 224 pixels.\n",
      "Image '/kaggle/input/rice-leaf-disease-image/Tungro/TUNGRO4_004.jpg' does not meet size requirements.\n",
      "Skipping file 'TUNGRO4_004.jpg' due to size less than 224 x 224 pixels.\n",
      "Image '/kaggle/input/rice-leaf-disease-image/Tungro/TUNGRO5_62.jpg' does not meet size requirements.\n",
      "Skipping file 'TUNGRO5_62.jpg' due to size less than 224 x 224 pixels.\n",
      "Image '/kaggle/input/rice-leaf-disease-image/Tungro/TUNGRO5_60.jpg' does not meet size requirements.\n",
      "Skipping file 'TUNGRO5_60.jpg' due to size less than 224 x 224 pixels.\n",
      "Image '/kaggle/input/rice-leaf-disease-image/Tungro/TUNGRO4_068.jpg' does not meet size requirements.\n",
      "Skipping file 'TUNGRO4_068.jpg' due to size less than 224 x 224 pixels.\n",
      "Image '/kaggle/input/rice-leaf-disease-image/Tungro/TUNGRO4_045.jpg' does not meet size requirements.\n",
      "Skipping file 'TUNGRO4_045.jpg' due to size less than 224 x 224 pixels.\n",
      "Image '/kaggle/input/rice-leaf-disease-image/Tungro/TUNGRO3_013.jpg' does not meet size requirements.\n",
      "Skipping file 'TUNGRO3_013.jpg' due to size less than 224 x 224 pixels.\n",
      "Image '/kaggle/input/rice-leaf-disease-image/Tungro/TUNGRO4_014.jpg' does not meet size requirements.\n",
      "Skipping file 'TUNGRO4_014.jpg' due to size less than 224 x 224 pixels.\n",
      "Image '/kaggle/input/rice-leaf-disease-image/Tungro/TUNGRO5_12.jpg' does not meet size requirements.\n",
      "Skipping file 'TUNGRO5_12.jpg' due to size less than 224 x 224 pixels.\n",
      "Image '/kaggle/input/rice-leaf-disease-image/Tungro/TUNGRO5_158.jpg' does not meet size requirements.\n",
      "Skipping file 'TUNGRO5_158.jpg' due to size less than 224 x 224 pixels.\n",
      "Image '/kaggle/input/rice-leaf-disease-image/Tungro/TUNGRO1_063.jpg' does not meet size requirements.\n",
      "Skipping file 'TUNGRO1_063.jpg' due to size less than 224 x 224 pixels.\n",
      "Image '/kaggle/input/rice-leaf-disease-image/Tungro/TUNGRO2_049.jpg' does not meet size requirements.\n",
      "Skipping file 'TUNGRO2_049.jpg' due to size less than 224 x 224 pixels.\n",
      "Image '/kaggle/input/rice-leaf-disease-image/Tungro/TUNGRO1_040.jpg' does not meet size requirements.\n",
      "Skipping file 'TUNGRO1_040.jpg' due to size less than 224 x 224 pixels.\n",
      "Image '/kaggle/input/rice-leaf-disease-image/Tungro/TUNGRO3_011.jpg' does not meet size requirements.\n",
      "Skipping file 'TUNGRO3_011.jpg' due to size less than 224 x 224 pixels.\n",
      "Image '/kaggle/input/rice-leaf-disease-image/Tungro/TUNGRO1_074.jpg' does not meet size requirements.\n",
      "Skipping file 'TUNGRO1_074.jpg' due to size less than 224 x 224 pixels.\n",
      "Image '/kaggle/input/rice-leaf-disease-image/Tungro/TUNGRO4_002.jpg' does not meet size requirements.\n",
      "Skipping file 'TUNGRO4_002.jpg' due to size less than 224 x 224 pixels.\n",
      "Image '/kaggle/input/rice-leaf-disease-image/Tungro/TUNGRO4_077.jpg' does not meet size requirements.\n",
      "Skipping file 'TUNGRO4_077.jpg' due to size less than 224 x 224 pixels.\n",
      "Image '/kaggle/input/rice-leaf-disease-image/Tungro/TUNGRO1_007.jpg' does not meet size requirements.\n",
      "Skipping file 'TUNGRO1_007.jpg' due to size less than 224 x 224 pixels.\n",
      "Image '/kaggle/input/rice-leaf-disease-image/Tungro/TUNGRO3_087.jpg' does not meet size requirements.\n",
      "Skipping file 'TUNGRO3_087.jpg' due to size less than 224 x 224 pixels.\n",
      "Image '/kaggle/input/rice-leaf-disease-image/Tungro/TUNGRO2_004.jpg' does not meet size requirements.\n",
      "Skipping file 'TUNGRO2_004.jpg' due to size less than 224 x 224 pixels.\n",
      "Image '/kaggle/input/rice-leaf-disease-image/Tungro/TUNGRO5_108.jpg' does not meet size requirements.\n",
      "Skipping file 'TUNGRO5_108.jpg' due to size less than 224 x 224 pixels.\n",
      "Image '/kaggle/input/rice-leaf-disease-image/Tungro/TUNGRO3_004.jpg' does not meet size requirements.\n",
      "Skipping file 'TUNGRO3_004.jpg' due to size less than 224 x 224 pixels.\n",
      "Image '/kaggle/input/rice-leaf-disease-image/Tungro/TUNGRO5_112.jpg' does not meet size requirements.\n",
      "Skipping file 'TUNGRO5_112.jpg' due to size less than 224 x 224 pixels.\n",
      "Image '/kaggle/input/rice-leaf-disease-image/Tungro/TUNGRO2_045.jpg' does not meet size requirements.\n",
      "Skipping file 'TUNGRO2_045.jpg' due to size less than 224 x 224 pixels.\n",
      "Image '/kaggle/input/rice-leaf-disease-image/Tungro/TUNGRO2_074.jpg' does not meet size requirements.\n",
      "Skipping file 'TUNGRO2_074.jpg' due to size less than 224 x 224 pixels.\n",
      "Image '/kaggle/input/rice-leaf-disease-image/Tungro/TUNGRO3_009.jpg' does not meet size requirements.\n",
      "Skipping file 'TUNGRO3_009.jpg' due to size less than 224 x 224 pixels.\n",
      "Image '/kaggle/input/rice-leaf-disease-image/Tungro/TUNGRO5_61.jpg' does not meet size requirements.\n",
      "Skipping file 'TUNGRO5_61.jpg' due to size less than 224 x 224 pixels.\n",
      "Image '/kaggle/input/rice-leaf-disease-image/Tungro/TUNGRO2_014.jpg' does not meet size requirements.\n",
      "Skipping file 'TUNGRO2_014.jpg' due to size less than 224 x 224 pixels.\n",
      "Image '/kaggle/input/rice-leaf-disease-image/Tungro/TUNGRO2_044.jpg' does not meet size requirements.\n",
      "Skipping file 'TUNGRO2_044.jpg' due to size less than 224 x 224 pixels.\n",
      "Image '/kaggle/input/rice-leaf-disease-image/Tungro/TUNGRO5_52.jpg' does not meet size requirements.\n",
      "Skipping file 'TUNGRO5_52.jpg' due to size less than 224 x 224 pixels.\n",
      "Image '/kaggle/input/rice-leaf-disease-image/Tungro/TUNGRO1_079.jpg' does not meet size requirements.\n",
      "Skipping file 'TUNGRO1_079.jpg' due to size less than 224 x 224 pixels.\n",
      "Image '/kaggle/input/rice-leaf-disease-image/Tungro/TUNGRO4_064.jpg' does not meet size requirements.\n",
      "Skipping file 'TUNGRO4_064.jpg' due to size less than 224 x 224 pixels.\n",
      "Image '/kaggle/input/rice-leaf-disease-image/Tungro/TUNGRO4_076.jpg' does not meet size requirements.\n",
      "Skipping file 'TUNGRO4_076.jpg' due to size less than 224 x 224 pixels.\n",
      "Image '/kaggle/input/rice-leaf-disease-image/Tungro/TUNGRO3_049.jpg' does not meet size requirements.\n",
      "Skipping file 'TUNGRO3_049.jpg' due to size less than 224 x 224 pixels.\n",
      "Image '/kaggle/input/rice-leaf-disease-image/Tungro/TUNGRO5_111.jpg' does not meet size requirements.\n",
      "Skipping file 'TUNGRO5_111.jpg' due to size less than 224 x 224 pixels.\n",
      "Image '/kaggle/input/rice-leaf-disease-image/Tungro/TUNGRO4_013.jpg' does not meet size requirements.\n",
      "Skipping file 'TUNGRO4_013.jpg' due to size less than 224 x 224 pixels.\n",
      "Image '/kaggle/input/rice-leaf-disease-image/Tungro/TUNGRO1_004.jpg' does not meet size requirements.\n",
      "Skipping file 'TUNGRO1_004.jpg' due to size less than 224 x 224 pixels.\n",
      "Image '/kaggle/input/rice-leaf-disease-image/Tungro/TUNGRO3_053.jpg' does not meet size requirements.\n",
      "Skipping file 'TUNGRO3_053.jpg' due to size less than 224 x 224 pixels.\n",
      "Image '/kaggle/input/rice-leaf-disease-image/Tungro/TUNGRO5_159.jpg' does not meet size requirements.\n",
      "Skipping file 'TUNGRO5_159.jpg' due to size less than 224 x 224 pixels.\n",
      "Image '/kaggle/input/rice-leaf-disease-image/Tungro/TUNGRO5_101.jpg' does not meet size requirements.\n",
      "Skipping file 'TUNGRO5_101.jpg' due to size less than 224 x 224 pixels.\n",
      "Image '/kaggle/input/rice-leaf-disease-image/Tungro/TUNGRO5_14.jpg' does not meet size requirements.\n",
      "Skipping file 'TUNGRO5_14.jpg' due to size less than 224 x 224 pixels.\n",
      "Image '/kaggle/input/rice-leaf-disease-image/Tungro/TUNGRO4_006.jpg' does not meet size requirements.\n",
      "Skipping file 'TUNGRO4_006.jpg' due to size less than 224 x 224 pixels.\n",
      "Image '/kaggle/input/rice-leaf-disease-image/Tungro/TUNGRO1_053.jpg' does not meet size requirements.\n",
      "Skipping file 'TUNGRO1_053.jpg' due to size less than 224 x 224 pixels.\n",
      "Image '/kaggle/input/rice-leaf-disease-image/Tungro/TUNGRO1_054.jpg' does not meet size requirements.\n",
      "Skipping file 'TUNGRO1_054.jpg' due to size less than 224 x 224 pixels.\n",
      "Image '/kaggle/input/rice-leaf-disease-image/Tungro/TUNGRO2_063.jpg' does not meet size requirements.\n",
      "Skipping file 'TUNGRO2_063.jpg' due to size less than 224 x 224 pixels.\n",
      "Image '/kaggle/input/rice-leaf-disease-image/Tungro/TUNGRO2_051.jpg' does not meet size requirements.\n",
      "Skipping file 'TUNGRO2_051.jpg' due to size less than 224 x 224 pixels.\n",
      "Image '/kaggle/input/rice-leaf-disease-image/Tungro/TUNGRO1_076.jpg' does not meet size requirements.\n",
      "Skipping file 'TUNGRO1_076.jpg' due to size less than 224 x 224 pixels.\n",
      "Image '/kaggle/input/rice-leaf-disease-image/Tungro/TUNGRO2_005.jpg' does not meet size requirements.\n",
      "Skipping file 'TUNGRO2_005.jpg' due to size less than 224 x 224 pixels.\n",
      "Image '/kaggle/input/rice-leaf-disease-image/Tungro/TUNGRO4_009.jpg' does not meet size requirements.\n",
      "Skipping file 'TUNGRO4_009.jpg' due to size less than 224 x 224 pixels.\n",
      "Image '/kaggle/input/rice-leaf-disease-image/Tungro/TUNGRO3_038.jpg' does not meet size requirements.\n",
      "Skipping file 'TUNGRO3_038.jpg' due to size less than 224 x 224 pixels.\n",
      "Image '/kaggle/input/rice-leaf-disease-image/Tungro/TUNGRO1_015.jpg' does not meet size requirements.\n",
      "Skipping file 'TUNGRO1_015.jpg' due to size less than 224 x 224 pixels.\n",
      "Image '/kaggle/input/rice-leaf-disease-image/Tungro/TUNGRO2_061.jpg' does not meet size requirements.\n",
      "Skipping file 'TUNGRO2_061.jpg' due to size less than 224 x 224 pixels.\n",
      "Image '/kaggle/input/rice-leaf-disease-image/Tungro/TUNGRO4_005.jpg' does not meet size requirements.\n",
      "Skipping file 'TUNGRO4_005.jpg' due to size less than 224 x 224 pixels.\n",
      "Image '/kaggle/input/rice-leaf-disease-image/Tungro/TUNGRO1_048.jpg' does not meet size requirements.\n",
      "Skipping file 'TUNGRO1_048.jpg' due to size less than 224 x 224 pixels.\n",
      "Image '/kaggle/input/rice-leaf-disease-image/Tungro/TUNGRO4_060.jpg' does not meet size requirements.\n",
      "Skipping file 'TUNGRO4_060.jpg' due to size less than 224 x 224 pixels.\n",
      "Image '/kaggle/input/rice-leaf-disease-image/Tungro/TUNGRO5_8.jpg' does not meet size requirements.\n",
      "Skipping file 'TUNGRO5_8.jpg' due to size less than 224 x 224 pixels.\n",
      "Image '/kaggle/input/rice-leaf-disease-image/Tungro/TUNGRO2_065.jpg' does not meet size requirements.\n",
      "Skipping file 'TUNGRO2_065.jpg' due to size less than 224 x 224 pixels.\n",
      "Image '/kaggle/input/rice-leaf-disease-image/Tungro/TUNGRO1_068.jpg' does not meet size requirements.\n",
      "Skipping file 'TUNGRO1_068.jpg' due to size less than 224 x 224 pixels.\n",
      "Image '/kaggle/input/rice-leaf-disease-image/Tungro/TUNGRO1_037.jpg' does not meet size requirements.\n",
      "Skipping file 'TUNGRO1_037.jpg' due to size less than 224 x 224 pixels.\n",
      "Image '/kaggle/input/rice-leaf-disease-image/Tungro/TUNGRO2_015.jpg' does not meet size requirements.\n",
      "Skipping file 'TUNGRO2_015.jpg' due to size less than 224 x 224 pixels.\n",
      "Image '/kaggle/input/rice-leaf-disease-image/Tungro/TUNGRO4_078.jpg' does not meet size requirements.\n",
      "Skipping file 'TUNGRO4_078.jpg' due to size less than 224 x 224 pixels.\n",
      "Image '/kaggle/input/rice-leaf-disease-image/Tungro/TUNGRO4_001.jpg' does not meet size requirements.\n",
      "Skipping file 'TUNGRO4_001.jpg' due to size less than 224 x 224 pixels.\n",
      "Image '/kaggle/input/rice-leaf-disease-image/Tungro/TUNGRO1_077.jpg' does not meet size requirements.\n",
      "Skipping file 'TUNGRO1_077.jpg' due to size less than 224 x 224 pixels.\n",
      "Image '/kaggle/input/rice-leaf-disease-image/Tungro/TUNGRO5_162.jpg' does not meet size requirements.\n",
      "Skipping file 'TUNGRO5_162.jpg' due to size less than 224 x 224 pixels.\n",
      "Image '/kaggle/input/rice-leaf-disease-image/Tungro/TUNGRO3_079.jpg' does not meet size requirements.\n",
      "Skipping file 'TUNGRO3_079.jpg' due to size less than 224 x 224 pixels.\n",
      "Image '/kaggle/input/rice-leaf-disease-image/Tungro/TUNGRO1_075.jpg' does not meet size requirements.\n",
      "Skipping file 'TUNGRO1_075.jpg' due to size less than 224 x 224 pixels.\n",
      "Image '/kaggle/input/rice-leaf-disease-image/Tungro/TUNGRO1_064.jpg' does not meet size requirements.\n",
      "Skipping file 'TUNGRO1_064.jpg' due to size less than 224 x 224 pixels.\n",
      "Image '/kaggle/input/rice-leaf-disease-image/Tungro/TUNGRO1_018.jpg' does not meet size requirements.\n",
      "Skipping file 'TUNGRO1_018.jpg' due to size less than 224 x 224 pixels.\n",
      "Image '/kaggle/input/rice-leaf-disease-image/Tungro/TUNGRO1_001.jpg' does not meet size requirements.\n",
      "Skipping file 'TUNGRO1_001.jpg' due to size less than 224 x 224 pixels.\n",
      "Image '/kaggle/input/rice-leaf-disease-image/Tungro/TUNGRO4_075.jpg' does not meet size requirements.\n",
      "Skipping file 'TUNGRO4_075.jpg' due to size less than 224 x 224 pixels.\n",
      "Image '/kaggle/input/rice-leaf-disease-image/Tungro/TUNGRO2_001.jpg' does not meet size requirements.\n",
      "Skipping file 'TUNGRO2_001.jpg' due to size less than 224 x 224 pixels.\n",
      "Image '/kaggle/input/rice-leaf-disease-image/Tungro/TUNGRO4_055.jpg' does not meet size requirements.\n",
      "Skipping file 'TUNGRO4_055.jpg' due to size less than 224 x 224 pixels.\n",
      "Image '/kaggle/input/rice-leaf-disease-image/Tungro/TUNGRO5_152.jpg' does not meet size requirements.\n",
      "Skipping file 'TUNGRO5_152.jpg' due to size less than 224 x 224 pixels.\n",
      "Image '/kaggle/input/rice-leaf-disease-image/Tungro/TUNGRO5_102.jpg' does not meet size requirements.\n",
      "Skipping file 'TUNGRO5_102.jpg' due to size less than 224 x 224 pixels.\n",
      "Image '/kaggle/input/rice-leaf-disease-image/Tungro/TUNGRO3_052.jpg' does not meet size requirements.\n",
      "Skipping file 'TUNGRO3_052.jpg' due to size less than 224 x 224 pixels.\n",
      "Image '/kaggle/input/rice-leaf-disease-image/Tungro/TUNGRO4_038.jpg' does not meet size requirements.\n",
      "Skipping file 'TUNGRO4_038.jpg' due to size less than 224 x 224 pixels.\n",
      "Image '/kaggle/input/rice-leaf-disease-image/Tungro/TUNGRO1_087.jpg' does not meet size requirements.\n",
      "Skipping file 'TUNGRO1_087.jpg' due to size less than 224 x 224 pixels.\n",
      "Image '/kaggle/input/rice-leaf-disease-image/Tungro/TUNGRO5_11.jpg' does not meet size requirements.\n",
      "Skipping file 'TUNGRO5_11.jpg' due to size less than 224 x 224 pixels.\n",
      "Image '/kaggle/input/rice-leaf-disease-image/Tungro/TUNGRO5_2.jpg' does not meet size requirements.\n",
      "Skipping file 'TUNGRO5_2.jpg' due to size less than 224 x 224 pixels.\n",
      "Image '/kaggle/input/rice-leaf-disease-image/Tungro/TUNGRO1_060.jpg' does not meet size requirements.\n",
      "Skipping file 'TUNGRO1_060.jpg' due to size less than 224 x 224 pixels.\n",
      "Image '/kaggle/input/rice-leaf-disease-image/Tungro/TUNGRO1_052.jpg' does not meet size requirements.\n",
      "Skipping file 'TUNGRO1_052.jpg' due to size less than 224 x 224 pixels.\n",
      "Image '/kaggle/input/rice-leaf-disease-image/Tungro/TUNGRO1_005.jpg' does not meet size requirements.\n",
      "Skipping file 'TUNGRO1_005.jpg' due to size less than 224 x 224 pixels.\n",
      "Image '/kaggle/input/rice-leaf-disease-image/Tungro/TUNGRO1_051.jpg' does not meet size requirements.\n",
      "Skipping file 'TUNGRO1_051.jpg' due to size less than 224 x 224 pixels.\n",
      "Image '/kaggle/input/rice-leaf-disease-image/Tungro/TUNGRO1_062.jpg' does not meet size requirements.\n",
      "Skipping file 'TUNGRO1_062.jpg' due to size less than 224 x 224 pixels.\n",
      "Image '/kaggle/input/rice-leaf-disease-image/Tungro/TUNGRO4_008.jpg' does not meet size requirements.\n",
      "Skipping file 'TUNGRO4_008.jpg' due to size less than 224 x 224 pixels.\n",
      "Image '/kaggle/input/rice-leaf-disease-image/Tungro/TUNGRO4_051.jpg' does not meet size requirements.\n",
      "Skipping file 'TUNGRO4_051.jpg' due to size less than 224 x 224 pixels.\n",
      "Image '/kaggle/input/rice-leaf-disease-image/Tungro/TUNGRO1_013.jpg' does not meet size requirements.\n",
      "Skipping file 'TUNGRO1_013.jpg' due to size less than 224 x 224 pixels.\n",
      "All eligible files from '/kaggle/input/rice-leaf-disease-image/Tungro' successfully resized and copied to '/kaggle/working/data/Rice___tungro'.\n"
     ]
    }
   ],
   "source": [
    "rice_leaf_base = \"/kaggle/input/rice-leaf-disease-image\"\n",
    "rice_leaf_map={'Bacterialblight': 'Rice___bacterial_blight', \n",
    "                 'Blast': 'Rice___blast', \n",
    "                 'Brownspot': 'Rice___brown_spot', \n",
    "                 'Tungro': 'Rice___tungro'}\n",
    "for class_ in rice_leaf_map.keys():\n",
    "    copy_files(f\"{rice_leaf_base}/{class_}\", f\"{base_dir}/{rice_leaf_map[class_]}\")"
   ]
  },
  {
   "cell_type": "markdown",
   "id": "1a216f1e",
   "metadata": {
    "papermill": {
     "duration": 0.012542,
     "end_time": "2024-06-27T03:55:06.121654",
     "exception": false,
     "start_time": "2024-06-27T03:55:06.109112",
     "status": "completed"
    },
    "tags": []
   },
   "source": [
    "## 3. PlantVillage\n",
    "1. Apple___Apple_scab\n",
    "1. Apple___Black_rot\n",
    "1. Apple___Cedar_apple_rust\n",
    "1. Apple___healthy\n",
    "1. Blueberry___healthy\n",
    "1. Cherry_(including_sour)___Powdery_mildew\n",
    "1. Cherry_(including_sour)___healthy\n",
    "1. Corn_(maize)___Cercospora_leaf_spot Gray_leaf_spot\n",
    "1. Corn_(maize)___Common_rust_\n",
    "1. Corn_(maize)___Northern_Leaf_Blight\n",
    "1. Corn_(maize)___healthy\n",
    "1. Grape___Black_rot\n",
    "1. Grape___Esca_(Black_Measles)\n",
    "1. Grape___Leaf_blight_(Isariopsis_Leaf_Spot)\n",
    "1. Grape___healthy\n",
    "1. Orange___Haunglongbing_(Citrus_greening)\n",
    "1. Peach___Bacterial_spot\n",
    "1. Peach___healthy\n",
    "1. Pepper,_bell___Bacterial_spot\n",
    "1. Pepper,_bell___healthy\n",
    "1. Potato___Early_blight\n",
    "1. Potato___Late_blight\n",
    "1. Potato___healthy\n",
    "1. Raspberry___healthy\n",
    "1. Soybean___healthy\n",
    "1. Squash___Powdery_mildew\n",
    "1. Strawberry___Leaf_scorch\n",
    "1. Strawberry___healthy\n",
    "1. Tomato___Bacterial_spot\n",
    "1. Tomato___Early_blight\n",
    "1. Tomato___Late_blight\n",
    "1. Tomato___Leaf_Mold\n",
    "1. Tomato___Septoria_leaf_spot\n",
    "1. Tomato___Spider_mites Two-spotted_spider_mite\n",
    "1. Tomato___Target_Spot\n",
    "1. Tomato___Tomato_Yellow_Leaf_Curl_Virus\n",
    "1. Tomato___Tomato_mosaic_virus\n",
    "1. Tomato___healthy"
   ]
  },
  {
   "cell_type": "code",
   "execution_count": 12,
   "id": "3462434c",
   "metadata": {
    "execution": {
     "iopub.execute_input": "2024-06-27T03:55:06.148641Z",
     "iopub.status.busy": "2024-06-27T03:55:06.148112Z",
     "iopub.status.idle": "2024-06-27T04:03:25.623458Z",
     "shell.execute_reply": "2024-06-27T04:03:25.622408Z"
    },
    "papermill": {
     "duration": 499.491367,
     "end_time": "2024-06-27T04:03:25.625822",
     "exception": false,
     "start_time": "2024-06-27T03:55:06.134455",
     "status": "completed"
    },
    "tags": []
   },
   "outputs": [
    {
     "name": "stdout",
     "output_type": "stream",
     "text": [
      "All eligible files from '/kaggle/input/plantvillage-dataset/color/Apple___Apple_scab' successfully resized and copied to '/kaggle/working/data/Apple___scab'.\n",
      "All eligible files from '/kaggle/input/plantvillage-dataset/color/Apple___Black_rot' successfully resized and copied to '/kaggle/working/data/Apple___black_rot'.\n",
      "All eligible files from '/kaggle/input/plantvillage-dataset/color/Apple___Cedar_apple_rust' successfully resized and copied to '/kaggle/working/data/Apple___rust'.\n",
      "All eligible files from '/kaggle/input/plantvillage-dataset/color/Apple___healthy' successfully resized and copied to '/kaggle/working/data/Apple___healthy'.\n",
      "All eligible files from '/kaggle/input/plantvillage-dataset/color/Blueberry___healthy' successfully resized and copied to '/kaggle/working/data/Blueberry___healthy'.\n",
      "All eligible files from '/kaggle/input/plantvillage-dataset/color/Cherry_(including_sour)___Powdery_mildew' successfully resized and copied to '/kaggle/working/data/Cherry___powdery_mildew'.\n",
      "All eligible files from '/kaggle/input/plantvillage-dataset/color/Cherry_(including_sour)___healthy' successfully resized and copied to '/kaggle/working/data/Cherry___healthy'.\n",
      "All eligible files from '/kaggle/input/plantvillage-dataset/color/Corn_(maize)___Cercospora_leaf_spot Gray_leaf_spot' successfully resized and copied to '/kaggle/working/data/Corn___gray_leaf_spot'.\n",
      "All eligible files from '/kaggle/input/plantvillage-dataset/color/Corn_(maize)___Common_rust_' successfully resized and copied to '/kaggle/working/data/Corn___common_rust'.\n",
      "All eligible files from '/kaggle/input/plantvillage-dataset/color/Corn_(maize)___Northern_Leaf_Blight' successfully resized and copied to '/kaggle/working/data/Corn___northern_leaf_blight'.\n",
      "All eligible files from '/kaggle/input/plantvillage-dataset/color/Corn_(maize)___healthy' successfully resized and copied to '/kaggle/working/data/Corn___healthy'.\n",
      "All eligible files from '/kaggle/input/plantvillage-dataset/color/Grape___Black_rot' successfully resized and copied to '/kaggle/working/data/Grape___black_rot'.\n",
      "All eligible files from '/kaggle/input/plantvillage-dataset/color/Grape___Esca_(Black_Measles)' successfully resized and copied to '/kaggle/working/data/Grape___black_measles'.\n",
      "All eligible files from '/kaggle/input/plantvillage-dataset/color/Grape___Leaf_blight_(Isariopsis_Leaf_Spot)' successfully resized and copied to '/kaggle/working/data/Grape___Leaf_blight'.\n",
      "All eligible files from '/kaggle/input/plantvillage-dataset/color/Grape___healthy' successfully resized and copied to '/kaggle/working/data/Grape___healthy'.\n",
      "All eligible files from '/kaggle/input/plantvillage-dataset/color/Orange___Haunglongbing_(Citrus_greening)' successfully resized and copied to '/kaggle/working/data/Orange___citrus_greening'.\n",
      "All eligible files from '/kaggle/input/plantvillage-dataset/color/Peach___Bacterial_spot' successfully resized and copied to '/kaggle/working/data/Peach___bacterial_spot'.\n",
      "All eligible files from '/kaggle/input/plantvillage-dataset/color/Peach___healthy' successfully resized and copied to '/kaggle/working/data/Peach___healthy'.\n",
      "All eligible files from '/kaggle/input/plantvillage-dataset/color/Pepper,_bell___Bacterial_spot' successfully resized and copied to '/kaggle/working/data/Bell_pepper___bacterial_spot'.\n",
      "All eligible files from '/kaggle/input/plantvillage-dataset/color/Pepper,_bell___healthy' successfully resized and copied to '/kaggle/working/data/Bell_pepper___healthy'.\n",
      "All eligible files from '/kaggle/input/plantvillage-dataset/color/Potato___Early_blight' successfully resized and copied to '/kaggle/working/data/Potato___early_blight'.\n",
      "All eligible files from '/kaggle/input/plantvillage-dataset/color/Potato___Late_blight' successfully resized and copied to '/kaggle/working/data/Potato___late_blight'.\n",
      "All eligible files from '/kaggle/input/plantvillage-dataset/color/Potato___healthy' successfully resized and copied to '/kaggle/working/data/Potato___healthy'.\n",
      "All eligible files from '/kaggle/input/plantvillage-dataset/color/Raspberry___healthy' successfully resized and copied to '/kaggle/working/data/Raspberry___healthy'.\n",
      "All eligible files from '/kaggle/input/plantvillage-dataset/color/Soybean___healthy' successfully resized and copied to '/kaggle/working/data/Soybean___healthy'.\n",
      "All eligible files from '/kaggle/input/plantvillage-dataset/color/Squash___Powdery_mildew' successfully resized and copied to '/kaggle/working/data/Squash___powdery_mildew'.\n",
      "All eligible files from '/kaggle/input/plantvillage-dataset/color/Strawberry___Leaf_scorch' successfully resized and copied to '/kaggle/working/data/Strawberry___leaf_scorch'.\n",
      "All eligible files from '/kaggle/input/plantvillage-dataset/color/Strawberry___healthy' successfully resized and copied to '/kaggle/working/data/Strawberry___healthy'.\n",
      "All eligible files from '/kaggle/input/plantvillage-dataset/color/Tomato___Bacterial_spot' successfully resized and copied to '/kaggle/working/data/Tomato___bacterial_spot'.\n",
      "All eligible files from '/kaggle/input/plantvillage-dataset/color/Tomato___Early_blight' successfully resized and copied to '/kaggle/working/data/Tomato___early_blight'.\n",
      "All eligible files from '/kaggle/input/plantvillage-dataset/color/Tomato___Late_blight' successfully resized and copied to '/kaggle/working/data/Tomato___late_blight'.\n",
      "All eligible files from '/kaggle/input/plantvillage-dataset/color/Tomato___Leaf_Mold' successfully resized and copied to '/kaggle/working/data/Tomato___leaf_mold'.\n",
      "All eligible files from '/kaggle/input/plantvillage-dataset/color/Tomato___Septoria_leaf_spot' successfully resized and copied to '/kaggle/working/data/Tomato___septoria_leaf_spot'.\n",
      "All eligible files from '/kaggle/input/plantvillage-dataset/color/Tomato___Spider_mites Two-spotted_spider_mite' successfully resized and copied to '/kaggle/working/data/Tomato___spider_mites'.\n",
      "All eligible files from '/kaggle/input/plantvillage-dataset/color/Tomato___Target_Spot' successfully resized and copied to '/kaggle/working/data/Tomato___target_spot'.\n",
      "All eligible files from '/kaggle/input/plantvillage-dataset/color/Tomato___Tomato_Yellow_Leaf_Curl_Virus' successfully resized and copied to '/kaggle/working/data/Tomato___leaf_curl'.\n",
      "All eligible files from '/kaggle/input/plantvillage-dataset/color/Tomato___Tomato_mosaic_virus' successfully resized and copied to '/kaggle/working/data/Tomato___mosaic_virus'.\n",
      "All eligible files from '/kaggle/input/plantvillage-dataset/color/Tomato___healthy' successfully resized and copied to '/kaggle/working/data/Tomato___healthy'.\n"
     ]
    }
   ],
   "source": [
    "plant_village_base = \"/kaggle/input/plantvillage-dataset/color\"\n",
    "plant_village_map = {\n",
    "    'Apple___Apple_scab': 'Apple___scab',\n",
    "    'Apple___Black_rot': 'Apple___black_rot',\n",
    "    'Apple___Cedar_apple_rust': 'Apple___rust',\n",
    "    'Apple___healthy': 'Apple___healthy',\n",
    "    'Blueberry___healthy': 'Blueberry___healthy',\n",
    "    'Cherry_(including_sour)___Powdery_mildew': 'Cherry___powdery_mildew',\n",
    "    'Cherry_(including_sour)___healthy': 'Cherry___healthy',\n",
    "    'Corn_(maize)___Cercospora_leaf_spot Gray_leaf_spot': 'Corn___gray_leaf_spot',\n",
    "    'Corn_(maize)___Common_rust_': 'Corn___common_rust',\n",
    "    'Corn_(maize)___Northern_Leaf_Blight': 'Corn___northern_leaf_blight',\n",
    "    'Corn_(maize)___healthy': 'Corn___healthy',\n",
    "    'Grape___Black_rot': 'Grape___black_rot',\n",
    "    'Grape___Esca_(Black_Measles)': 'Grape___black_measles',\n",
    "    'Grape___Leaf_blight_(Isariopsis_Leaf_Spot)': 'Grape___Leaf_blight',\n",
    "    'Grape___healthy': 'Grape___healthy',\n",
    "    'Orange___Haunglongbing_(Citrus_greening)': 'Orange___citrus_greening',\n",
    "    'Peach___Bacterial_spot': 'Peach___bacterial_spot',\n",
    "    'Peach___healthy': 'Peach___healthy',\n",
    "    'Pepper,_bell___Bacterial_spot': 'Bell_pepper___bacterial_spot',\n",
    "    'Pepper,_bell___healthy': 'Bell_pepper___healthy',\n",
    "    'Potato___Early_blight': 'Potato___early_blight',\n",
    "    'Potato___Late_blight': 'Potato___late_blight',\n",
    "    'Potato___healthy': 'Potato___healthy',\n",
    "    'Raspberry___healthy': 'Raspberry___healthy',\n",
    "    'Soybean___healthy': 'Soybean___healthy',\n",
    "    'Squash___Powdery_mildew': 'Squash___powdery_mildew',\n",
    "    'Strawberry___Leaf_scorch': 'Strawberry___leaf_scorch',\n",
    "    'Strawberry___healthy': 'Strawberry___healthy',\n",
    "    'Tomato___Bacterial_spot': 'Tomato___bacterial_spot',\n",
    "    'Tomato___Early_blight': 'Tomato___early_blight',\n",
    "    'Tomato___Late_blight': 'Tomato___late_blight',\n",
    "    'Tomato___Leaf_Mold': 'Tomato___leaf_mold',\n",
    "    'Tomato___Septoria_leaf_spot': 'Tomato___septoria_leaf_spot',\n",
    "    'Tomato___Spider_mites Two-spotted_spider_mite': 'Tomato___spider_mites',\n",
    "    'Tomato___Target_Spot': 'Tomato___target_spot',\n",
    "    'Tomato___Tomato_Yellow_Leaf_Curl_Virus': 'Tomato___leaf_curl',\n",
    "    'Tomato___Tomato_mosaic_virus': 'Tomato___mosaic_virus',\n",
    "    'Tomato___healthy': 'Tomato___healthy'    \n",
    "}\n",
    "\n",
    "for class_ in plant_village_map.keys():\n",
    "    copy_files(f\"{plant_village_base}/{class_}\", f\"{base_dir}/{plant_village_map[class_]}\")"
   ]
  },
  {
   "cell_type": "markdown",
   "id": "e96b4fd2",
   "metadata": {
    "papermill": {
     "duration": 0.015078,
     "end_time": "2024-06-27T04:03:25.658816",
     "exception": false,
     "start_time": "2024-06-27T04:03:25.643738",
     "status": "completed"
    },
    "tags": []
   },
   "source": [
    "## 4. Potatoe Leaf Disease\n",
    "1. Potato___early_blight\n",
    "1. Potato___late_blight\n",
    "1. Potato___healthy"
   ]
  },
  {
   "cell_type": "code",
   "execution_count": 13,
   "id": "e3c4a85a",
   "metadata": {
    "execution": {
     "iopub.execute_input": "2024-06-27T04:03:25.692219Z",
     "iopub.status.busy": "2024-06-27T04:03:25.691892Z",
     "iopub.status.idle": "2024-06-27T04:04:00.279633Z",
     "shell.execute_reply": "2024-06-27T04:04:00.278662Z"
    },
    "papermill": {
     "duration": 34.622428,
     "end_time": "2024-06-27T04:04:00.297810",
     "exception": false,
     "start_time": "2024-06-27T04:03:25.675382",
     "status": "completed"
    },
    "tags": []
   },
   "outputs": [
    {
     "name": "stdout",
     "output_type": "stream",
     "text": [
      "All eligible files from '/kaggle/input/potato-leaf-diseases/EarlyBlight' successfully resized and copied to '/kaggle/working/data/Potato___early_blight'.\n",
      "All eligible files from '/kaggle/input/potato-leaf-diseases/Healthy' successfully resized and copied to '/kaggle/working/data/Potato___late_blight'.\n",
      "All eligible files from '/kaggle/input/potato-leaf-diseases/LateBlight' successfully resized and copied to '/kaggle/working/data/Potato___healthy'.\n"
     ]
    }
   ],
   "source": [
    "potatoe_leaf_base = \"/kaggle/input/potato-leaf-diseases\"\n",
    "potatoe_leaf_map={\n",
    "    'EarlyBlight': 'Potato___early_blight', \n",
    "    'Healthy': 'Potato___late_blight',\n",
    "    'LateBlight': 'Potato___healthy'}\n",
    "for class_ in potatoe_leaf_map.keys():\n",
    "    copy_files(f\"{potatoe_leaf_base}/{class_}\", f\"{base_dir}/{potatoe_leaf_map[class_]}\")"
   ]
  },
  {
   "cell_type": "markdown",
   "id": "9056349d",
   "metadata": {
    "papermill": {
     "duration": 0.015814,
     "end_time": "2024-06-27T04:04:00.330159",
     "exception": false,
     "start_time": "2024-06-27T04:04:00.314345",
     "status": "completed"
    },
    "tags": []
   },
   "source": [
    "## 5. Plant Pathelogy\n",
    "1. Apple___scab\n",
    "2. Apple___cedar_rust\n",
    "3. Apple___healthy"
   ]
  },
  {
   "cell_type": "code",
   "execution_count": 14,
   "id": "4f36298e",
   "metadata": {
    "execution": {
     "iopub.execute_input": "2024-06-27T04:04:00.363567Z",
     "iopub.status.busy": "2024-06-27T04:04:00.362789Z",
     "iopub.status.idle": "2024-06-27T04:05:17.136604Z",
     "shell.execute_reply": "2024-06-27T04:05:17.135609Z"
    },
    "papermill": {
     "duration": 76.792744,
     "end_time": "2024-06-27T04:05:17.138785",
     "exception": false,
     "start_time": "2024-06-27T04:04:00.346041",
     "status": "completed"
    },
    "tags": []
   },
   "outputs": [
    {
     "name": "stdout",
     "output_type": "stream",
     "text": [
      "All eligible files from '/kaggle/input/apple-leaf-disease-dataset/data/healthy' successfully resized and copied to '/kaggle/working/data/Apple___healthy'.\n",
      "All eligible files from '/kaggle/input/apple-leaf-disease-dataset/data/rust' successfully resized and copied to '/kaggle/working/data/Apple___rust'.\n",
      "All eligible files from '/kaggle/input/apple-leaf-disease-dataset/data/scab' successfully resized and copied to '/kaggle/working/data/Apple___scab'.\n"
     ]
    }
   ],
   "source": [
    "plant_pathelogy_base = \"/kaggle/input/apple-leaf-disease-dataset/data\"\n",
    "plant_pathelogy_map={\n",
    "    'healthy': 'Apple___healthy', \n",
    "    'rust': 'Apple___rust',\n",
    "    'scab': 'Apple___scab'}\n",
    "for class_ in plant_pathelogy_map.keys():\n",
    "    copy_files(f\"{plant_pathelogy_base}/{class_}\", f\"{base_dir}/{plant_pathelogy_map[class_]}\")"
   ]
  },
  {
   "cell_type": "markdown",
   "id": "d755538a",
   "metadata": {
    "papermill": {
     "duration": 0.01602,
     "end_time": "2024-06-27T04:05:17.171876",
     "exception": false,
     "start_time": "2024-06-27T04:05:17.155856",
     "status": "completed"
    },
    "tags": []
   },
   "source": [
    "## 6. ESCA (grapes black measles) dataset\n",
    "1. Grape___healthy\n",
    "1. Grape___black_measles"
   ]
  },
  {
   "cell_type": "code",
   "execution_count": 15,
   "id": "97c11f45",
   "metadata": {
    "execution": {
     "iopub.execute_input": "2024-06-27T04:05:17.205754Z",
     "iopub.status.busy": "2024-06-27T04:05:17.205091Z",
     "iopub.status.idle": "2024-06-27T04:06:16.858138Z",
     "shell.execute_reply": "2024-06-27T04:06:16.857243Z"
    },
    "papermill": {
     "duration": 59.688814,
     "end_time": "2024-06-27T04:06:16.876539",
     "exception": false,
     "start_time": "2024-06-27T04:05:17.187725",
     "status": "completed"
    },
    "tags": []
   },
   "outputs": [
    {
     "name": "stdout",
     "output_type": "stream",
     "text": [
      "All eligible files from '/kaggle/input/esca-grapes-black-measles-dataset/esca' successfully resized and copied to '/kaggle/working/data/Grape___black_measles'.\n",
      "All eligible files from '/kaggle/input/esca-grapes-black-measles-dataset/healthy' successfully resized and copied to '/kaggle/working/data/Grape___healthy'.\n"
     ]
    }
   ],
   "source": [
    "esca_base = \"/kaggle/input/esca-grapes-black-measles-dataset\"\n",
    "esca_map={\n",
    "    'esca': 'Grape___black_measles', \n",
    "    'healthy': 'Grape___healthy'}\n",
    "for class_ in esca_map.keys():\n",
    "    copy_files(f\"{esca_base}/{class_}\", f\"{base_dir}/{esca_map[class_]}\")"
   ]
  },
  {
   "cell_type": "markdown",
   "id": "249329fa",
   "metadata": {
    "papermill": {
     "duration": 0.015748,
     "end_time": "2024-06-27T04:06:16.908326",
     "exception": false,
     "start_time": "2024-06-27T04:06:16.892578",
     "status": "completed"
    },
    "tags": []
   },
   "source": [
    "## 7. Sugercane Leaf Disease Dataset\n",
    "1. Sugercane___healthy\n",
    "1. Sugercane___mosaic\n",
    "1. Sugercane___red_rot\n",
    "1. Sugercane___rust\n",
    "1. Sugercane___yellow_leaf"
   ]
  },
  {
   "cell_type": "code",
   "execution_count": 16,
   "id": "f026ccf8",
   "metadata": {
    "execution": {
     "iopub.execute_input": "2024-06-27T04:06:16.941857Z",
     "iopub.status.busy": "2024-06-27T04:06:16.941582Z",
     "iopub.status.idle": "2024-06-27T04:07:00.841389Z",
     "shell.execute_reply": "2024-06-27T04:07:00.840386Z"
    },
    "papermill": {
     "duration": 43.918884,
     "end_time": "2024-06-27T04:07:00.843621",
     "exception": false,
     "start_time": "2024-06-27T04:06:16.924737",
     "status": "completed"
    },
    "tags": []
   },
   "outputs": [
    {
     "name": "stdout",
     "output_type": "stream",
     "text": [
      "All eligible files from '/kaggle/input/sugarcane-leaf-disease-dataset/Healthy' successfully resized and copied to '/kaggle/working/data/Sugercane___healthy'.\n",
      "All eligible files from '/kaggle/input/sugarcane-leaf-disease-dataset/Mosaic' successfully resized and copied to '/kaggle/working/data/Sugercane___mosaic'.\n",
      "All eligible files from '/kaggle/input/sugarcane-leaf-disease-dataset/RedRot' successfully resized and copied to '/kaggle/working/data/Sugercane___red_rot'.\n",
      "All eligible files from '/kaggle/input/sugarcane-leaf-disease-dataset/Rust' successfully resized and copied to '/kaggle/working/data/Sugercane___rust'.\n",
      "All eligible files from '/kaggle/input/sugarcane-leaf-disease-dataset/Yellow' successfully resized and copied to '/kaggle/working/data/Sugercane___yellow_leaf'.\n"
     ]
    }
   ],
   "source": [
    "sugercane_base = \"/kaggle/input/sugarcane-leaf-disease-dataset\"\n",
    "sugercane_map={\n",
    "    'Healthy': 'Sugercane___healthy', \n",
    "    'Mosaic': 'Sugercane___mosaic',\n",
    "    'RedRot': 'Sugercane___red_rot',\n",
    "    'Rust': 'Sugercane___rust',\n",
    "    'Yellow': 'Sugercane___yellow_leaf'\n",
    "}\n",
    "for class_ in sugercane_map.keys():\n",
    "    copy_files(f\"{sugercane_base}/{class_}\", f\"{base_dir}/{sugercane_map[class_]}\")"
   ]
  },
  {
   "cell_type": "markdown",
   "id": "09ebade6",
   "metadata": {
    "papermill": {
     "duration": 0.01633,
     "end_time": "2024-06-27T04:07:00.876638",
     "exception": false,
     "start_time": "2024-06-27T04:07:00.860308",
     "status": "completed"
    },
    "tags": []
   },
   "source": [
    "## 8. Potatoe Leaf Disease Dataset"
   ]
  },
  {
   "cell_type": "code",
   "execution_count": 17,
   "id": "49d1a675",
   "metadata": {
    "execution": {
     "iopub.execute_input": "2024-06-27T04:07:00.910720Z",
     "iopub.status.busy": "2024-06-27T04:07:00.910104Z",
     "iopub.status.idle": "2024-06-27T04:08:07.489945Z",
     "shell.execute_reply": "2024-06-27T04:08:07.489062Z"
    },
    "papermill": {
     "duration": 66.599206,
     "end_time": "2024-06-27T04:08:07.492143",
     "exception": false,
     "start_time": "2024-06-27T04:07:00.892937",
     "status": "completed"
    },
    "tags": []
   },
   "outputs": [
    {
     "name": "stdout",
     "output_type": "stream",
     "text": [
      "All eligible files from '/kaggle/input/potato-leaf-disease-dataset/Bacteria' successfully resized and copied to '/kaggle/working/data/Potato___bacterial_wilt'.\n",
      "All eligible files from '/kaggle/input/potato-leaf-disease-dataset/Healthy' successfully resized and copied to '/kaggle/working/data/Potato___healthy'.\n",
      "All eligible files from '/kaggle/input/potato-leaf-disease-dataset/Nematode' successfully resized and copied to '/kaggle/working/data/Potato___nematode'.\n",
      "All eligible files from '/kaggle/input/potato-leaf-disease-dataset/Pest' successfully resized and copied to '/kaggle/working/data/Potato___pests'.\n",
      "All eligible files from '/kaggle/input/potato-leaf-disease-dataset/Phytopthora' successfully resized and copied to '/kaggle/working/data/Potato___phytophthora'.\n",
      "All eligible files from '/kaggle/input/potato-leaf-disease-dataset/Virus' successfully resized and copied to '/kaggle/working/data/Potato___virus'.\n"
     ]
    }
   ],
   "source": [
    "potatoe_base_1 = \"/kaggle/input/potato-leaf-disease-dataset\"\n",
    "potatoe_map_1={\n",
    "    'Bacteria': 'Potato___bacterial_wilt', \n",
    "    'Healthy': 'Potato___healthy',\n",
    "    'Nematode': 'Potato___nematode',\n",
    "    'Pest': 'Potato___pests',\n",
    "    'Phytopthora': 'Potato___phytophthora',\n",
    "    'Virus': 'Potato___virus'\n",
    "}\n",
    "for class_ in potatoe_map_1.keys():\n",
    "    copy_files(f\"{potatoe_base_1}/{class_}\", f\"{base_dir}/{potatoe_map_1[class_]}\")"
   ]
  },
  {
   "cell_type": "markdown",
   "id": "b7e77889",
   "metadata": {
    "papermill": {
     "duration": 0.016929,
     "end_time": "2024-06-27T04:08:07.526387",
     "exception": false,
     "start_time": "2024-06-27T04:08:07.509458",
     "status": "completed"
    },
    "tags": []
   },
   "source": [
    "## 9. Apple Tree Leaf Disease Dataset\n",
    "1. Apple___alternaria_leaf_spot\n",
    "2. Apple___brown_spot\n",
    "3. Apple___gray_spot\n",
    "4. Apple___healthy\n",
    "5. Apple___rust"
   ]
  },
  {
   "cell_type": "code",
   "execution_count": 18,
   "id": "a34eb0f7",
   "metadata": {
    "execution": {
     "iopub.execute_input": "2024-06-27T04:08:07.560909Z",
     "iopub.status.busy": "2024-06-27T04:08:07.560644Z",
     "iopub.status.idle": "2024-06-27T04:08:25.538837Z",
     "shell.execute_reply": "2024-06-27T04:08:25.538015Z"
    },
    "papermill": {
     "duration": 17.997952,
     "end_time": "2024-06-27T04:08:25.540967",
     "exception": false,
     "start_time": "2024-06-27T04:08:07.543015",
     "status": "completed"
    },
    "tags": []
   },
   "outputs": [
    {
     "name": "stdout",
     "output_type": "stream",
     "text": [
      "All eligible files from '/kaggle/input/apple-tree-leaf-disease-dataset/Alternaria leaf spot' successfully resized and copied to '/kaggle/working/data/Apple___alternaria_leaf_spot'.\n",
      "All eligible files from '/kaggle/input/apple-tree-leaf-disease-dataset/Brown spot' successfully resized and copied to '/kaggle/working/data/Apple___brown_spot'.\n",
      "All eligible files from '/kaggle/input/apple-tree-leaf-disease-dataset/Gray spot' successfully resized and copied to '/kaggle/working/data/Apple___gray_spot'.\n",
      "All eligible files from '/kaggle/input/apple-tree-leaf-disease-dataset/Healthy leaf' successfully resized and copied to '/kaggle/working/data/Apple___healthy'.\n",
      "All eligible files from '/kaggle/input/apple-tree-leaf-disease-dataset/Rust' successfully resized and copied to '/kaggle/working/data/Apple___rust'.\n"
     ]
    }
   ],
   "source": [
    "apple_tree_leaf_base = \"/kaggle/input/apple-tree-leaf-disease-dataset\"\n",
    "apple_leaf_map={\n",
    "    'Alternaria leaf spot': 'Apple___alternaria_leaf_spot', \n",
    "    'Brown spot': 'Apple___brown_spot',\n",
    "    'Gray spot': 'Apple___gray_spot',\n",
    "    'Healthy leaf': 'Apple___healthy',\n",
    "    'Rust': 'Apple___rust'\n",
    "}\n",
    "for class_ in apple_leaf_map.keys():\n",
    "    copy_files(f\"{apple_tree_leaf_base}/{class_}\", f\"{base_dir}/{apple_leaf_map[class_]}\")"
   ]
  }
 ],
 "metadata": {
  "kaggle": {
   "accelerator": "nvidiaTeslaT4",
   "dataSources": [
    {
     "datasetId": 277323,
     "sourceId": 658267,
     "sourceType": "datasetVersion"
    },
    {
     "datasetId": 3751964,
     "sourceId": 6492302,
     "sourceType": "datasetVersion"
    },
    {
     "datasetId": 4245440,
     "sourceId": 7316033,
     "sourceType": "datasetVersion"
    },
    {
     "datasetId": 4280630,
     "sourceId": 7368147,
     "sourceType": "datasetVersion"
    },
    {
     "datasetId": 4320051,
     "sourceId": 7424766,
     "sourceType": "datasetVersion"
    },
    {
     "datasetId": 4325278,
     "sourceId": 7432568,
     "sourceType": "datasetVersion"
    },
    {
     "datasetId": 4280245,
     "sourceId": 7445029,
     "sourceType": "datasetVersion"
    },
    {
     "datasetId": 4207557,
     "sourceId": 7445098,
     "sourceType": "datasetVersion"
    },
    {
     "datasetId": 4335411,
     "sourceId": 7448166,
     "sourceType": "datasetVersion"
    }
   ],
   "dockerImageVersionId": 30626,
   "isGpuEnabled": true,
   "isInternetEnabled": true,
   "language": "python",
   "sourceType": "notebook"
  },
  "kernelspec": {
   "display_name": "Python 3",
   "language": "python",
   "name": "python3"
  },
  "language_info": {
   "codemirror_mode": {
    "name": "ipython",
    "version": 3
   },
   "file_extension": ".py",
   "mimetype": "text/x-python",
   "name": "python",
   "nbconvert_exporter": "python",
   "pygments_lexer": "ipython3",
   "version": "3.10.12"
  },
  "papermill": {
   "default_parameters": {},
   "duration": 1151.17325,
   "end_time": "2024-06-27T04:08:25.979850",
   "environment_variables": {},
   "exception": null,
   "input_path": "__notebook__.ipynb",
   "output_path": "__notebook__.ipynb",
   "parameters": {},
   "start_time": "2024-06-27T03:49:14.806600",
   "version": "2.4.0"
  }
 },
 "nbformat": 4,
 "nbformat_minor": 5
}
