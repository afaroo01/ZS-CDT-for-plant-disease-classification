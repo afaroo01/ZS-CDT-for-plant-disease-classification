{
 "cells": [
  {
   "cell_type": "code",
   "execution_count": 1,
   "id": "0dea16fa",
   "metadata": {
    "_cell_guid": "b1076dfc-b9ad-4769-8c92-a6c4dae69d19",
    "_uuid": "8f2839f25d086af736a60e9eeb907d3b93b6e0e5",
    "execution": {
     "iopub.execute_input": "2024-06-27T03:44:03.711688Z",
     "iopub.status.busy": "2024-06-27T03:44:03.711369Z",
     "iopub.status.idle": "2024-06-27T03:44:04.381034Z",
     "shell.execute_reply": "2024-06-27T03:44:04.380281Z"
    },
    "papermill": {
     "duration": 0.678183,
     "end_time": "2024-06-27T03:44:04.383205",
     "exception": false,
     "start_time": "2024-06-27T03:44:03.705022",
     "status": "completed"
    },
    "tags": []
   },
   "outputs": [],
   "source": [
    "import os\n",
    "import shutil\n",
    "import numpy as np\n",
    "import pandas as pd\n",
    "from PIL import Image"
   ]
  },
  {
   "cell_type": "code",
   "execution_count": 2,
   "id": "e95b3511",
   "metadata": {
    "execution": {
     "iopub.execute_input": "2024-06-27T03:44:04.394079Z",
     "iopub.status.busy": "2024-06-27T03:44:04.393714Z",
     "iopub.status.idle": "2024-06-27T03:44:04.400284Z",
     "shell.execute_reply": "2024-06-27T03:44:04.399569Z"
    },
    "papermill": {
     "duration": 0.014228,
     "end_time": "2024-06-27T03:44:04.402484",
     "exception": false,
     "start_time": "2024-06-27T03:44:04.388256",
     "status": "completed"
    },
    "tags": []
   },
   "outputs": [],
   "source": [
    "def is_valid_image(image_path, min_width=224, min_height=224):\n",
    "    try:\n",
    "        # Check if the image size is large enough\n",
    "        with Image.open(image_path) as img:\n",
    "            width, height = img.size\n",
    "            if width < min_width or height < min_height:\n",
    "                print(f\"Image '{image_path}' does not meet size requirements.\")\n",
    "                return False\n",
    "\n",
    "        # Check for the \"broken data stream\" error\n",
    "        with open(image_path, \"rb\") as img_file:\n",
    "            try:\n",
    "                img = Image.open(img_file)\n",
    "                img.verify()\n",
    "            except (IOError, SyntaxError) as e:\n",
    "                print(f\"Error reading image '{image_path}': {e}\")\n",
    "                return False\n",
    "        return True\n",
    "\n",
    "    except Exception as e:\n",
    "        print(f\"Error checking image validity for '{image_path}': {e}\")\n",
    "        return False"
   ]
  },
  {
   "cell_type": "code",
   "execution_count": 3,
   "id": "6e8303a0",
   "metadata": {
    "execution": {
     "iopub.execute_input": "2024-06-27T03:44:04.412624Z",
     "iopub.status.busy": "2024-06-27T03:44:04.412331Z",
     "iopub.status.idle": "2024-06-27T03:44:04.417345Z",
     "shell.execute_reply": "2024-06-27T03:44:04.416671Z"
    },
    "papermill": {
     "duration": 0.012116,
     "end_time": "2024-06-27T03:44:04.419180",
     "exception": false,
     "start_time": "2024-06-27T03:44:04.407064",
     "status": "completed"
    },
    "tags": []
   },
   "outputs": [],
   "source": [
    "def create_folder(folder_path, folder_name):\n",
    "    try:\n",
    "        new_folder_path = os.path.join(folder_path, folder_name)\n",
    "        if not os.path.exists(new_folder_path):\n",
    "            os.makedirs(new_folder_path)\n",
    "            print(f\"Folder '{folder_name}' created at '{folder_path}'.\")\n",
    "        else:\n",
    "            print(f\"Folder '{folder_name}' already exists at '{folder_path}'.\")\n",
    "\n",
    "    except Exception as e:\n",
    "        print(f\"Error: {e}\")"
   ]
  },
  {
   "cell_type": "code",
   "execution_count": 4,
   "id": "2a9d9331",
   "metadata": {
    "execution": {
     "iopub.execute_input": "2024-06-27T03:44:04.429607Z",
     "iopub.status.busy": "2024-06-27T03:44:04.429116Z",
     "iopub.status.idle": "2024-06-27T03:44:04.433721Z",
     "shell.execute_reply": "2024-06-27T03:44:04.432924Z"
    },
    "papermill": {
     "duration": 0.011642,
     "end_time": "2024-06-27T03:44:04.435525",
     "exception": false,
     "start_time": "2024-06-27T03:44:04.423883",
     "status": "completed"
    },
    "tags": []
   },
   "outputs": [],
   "source": [
    "def copy_folder(src_folder, dest_folder):\n",
    "    try:\n",
    "        shutil.copytree(src_folder, dest_folder)\n",
    "        print(f\"Folder '{src_folder}' successfully copied to '{dest_folder}'.\")\n",
    "    except shutil.Error as e:\n",
    "        print(f\"Error: {e}\")\n",
    "    except Exception as e:\n",
    "        print(f\"Error: {e}\")"
   ]
  },
  {
   "cell_type": "code",
   "execution_count": 5,
   "id": "4a3a11c3",
   "metadata": {
    "execution": {
     "iopub.execute_input": "2024-06-27T03:44:04.446146Z",
     "iopub.status.busy": "2024-06-27T03:44:04.445454Z",
     "iopub.status.idle": "2024-06-27T03:44:04.451740Z",
     "shell.execute_reply": "2024-06-27T03:44:04.451082Z"
    },
    "papermill": {
     "duration": 0.013365,
     "end_time": "2024-06-27T03:44:04.453555",
     "exception": false,
     "start_time": "2024-06-27T03:44:04.440190",
     "status": "completed"
    },
    "tags": []
   },
   "outputs": [],
   "source": [
    "def copy_files(src_folder, dest_folder):\n",
    "    try:\n",
    "        if not os.path.exists(dest_folder):\n",
    "            os.makedirs(dest_folder)\n",
    "\n",
    "        for filename in os.listdir(src_folder):\n",
    "            src_path = os.path.join(src_folder, filename)\n",
    "            dest_path = os.path.join(dest_folder, filename)\n",
    "\n",
    "            if is_valid_image(src_path):\n",
    "                with Image.open(src_path) as img:\n",
    "                    resized_img = img.resize((255, 255))\n",
    "                    resized_img.save(dest_path)\n",
    "            else:\n",
    "                print(f\"Skipping file '{filename}' due to size less than 224 x 224 pixels.\")\n",
    "\n",
    "        print(f\"All eligible files from '{src_folder}' successfully resized and copied to '{dest_folder}'.\")\n",
    "        \n",
    "    except Exception as e:\n",
    "        print(f\"Error: {e}\")"
   ]
  },
  {
   "cell_type": "code",
   "execution_count": 6,
   "id": "7802a276",
   "metadata": {
    "execution": {
     "iopub.execute_input": "2024-06-27T03:44:04.463756Z",
     "iopub.status.busy": "2024-06-27T03:44:04.463511Z",
     "iopub.status.idle": "2024-06-27T03:44:04.468219Z",
     "shell.execute_reply": "2024-06-27T03:44:04.467434Z"
    },
    "papermill": {
     "duration": 0.011904,
     "end_time": "2024-06-27T03:44:04.470044",
     "exception": false,
     "start_time": "2024-06-27T03:44:04.458140",
     "status": "completed"
    },
    "tags": []
   },
   "outputs": [],
   "source": [
    "base_dir = \"/kaggle/working/data\"\n",
    "if not os.path.exists(base_dir):\n",
    "    os.makedirs(base_dir)"
   ]
  },
  {
   "cell_type": "code",
   "execution_count": 7,
   "id": "2e6d61bc",
   "metadata": {
    "execution": {
     "iopub.execute_input": "2024-06-27T03:44:04.480220Z",
     "iopub.status.busy": "2024-06-27T03:44:04.479974Z",
     "iopub.status.idle": "2024-06-27T03:44:04.483574Z",
     "shell.execute_reply": "2024-06-27T03:44:04.482802Z"
    },
    "papermill": {
     "duration": 0.010784,
     "end_time": "2024-06-27T03:44:04.485356",
     "exception": false,
     "start_time": "2024-06-27T03:44:04.474572",
     "status": "completed"
    },
    "tags": []
   },
   "outputs": [],
   "source": [
    "folders = ['Rice___bacterial_blight', 'Rice___brown_spot', 'Rice___leaf_smut',]"
   ]
  },
  {
   "cell_type": "code",
   "execution_count": 8,
   "id": "c162bf74",
   "metadata": {
    "execution": {
     "iopub.execute_input": "2024-06-27T03:44:04.495328Z",
     "iopub.status.busy": "2024-06-27T03:44:04.495080Z",
     "iopub.status.idle": "2024-06-27T03:44:04.500039Z",
     "shell.execute_reply": "2024-06-27T03:44:04.499091Z"
    },
    "papermill": {
     "duration": 0.011897,
     "end_time": "2024-06-27T03:44:04.501869",
     "exception": false,
     "start_time": "2024-06-27T03:44:04.489972",
     "status": "completed"
    },
    "tags": []
   },
   "outputs": [
    {
     "name": "stdout",
     "output_type": "stream",
     "text": [
      "Folder 'Rice___bacterial_blight' created at '/kaggle/working/data'.\n",
      "Folder 'Rice___brown_spot' created at '/kaggle/working/data'.\n",
      "Folder 'Rice___leaf_smut' created at '/kaggle/working/data'.\n"
     ]
    }
   ],
   "source": [
    "for folder in folders:\n",
    "    create_folder(base_dir, folder)"
   ]
  },
  {
   "cell_type": "markdown",
   "id": "f38a6ef8",
   "metadata": {
    "papermill": {
     "duration": 0.004451,
     "end_time": "2024-06-27T03:44:04.511003",
     "exception": false,
     "start_time": "2024-06-27T03:44:04.506552",
     "status": "completed"
    },
    "tags": []
   },
   "source": [
    "## 1. Rice Leaf Diseases\n",
    "1. Rice___bacterial_blight\n",
    "1. Rice___blast\n",
    "1. Rice___brown_spot\n",
    "1. Rice___tungro"
   ]
  },
  {
   "cell_type": "code",
   "execution_count": 9,
   "id": "434b5d4b",
   "metadata": {
    "execution": {
     "iopub.execute_input": "2024-06-27T03:44:04.521600Z",
     "iopub.status.busy": "2024-06-27T03:44:04.520967Z",
     "iopub.status.idle": "2024-06-27T03:44:08.964005Z",
     "shell.execute_reply": "2024-06-27T03:44:08.963123Z"
    },
    "papermill": {
     "duration": 4.450277,
     "end_time": "2024-06-27T03:44:08.965924",
     "exception": false,
     "start_time": "2024-06-27T03:44:04.515647",
     "status": "completed"
    },
    "tags": []
   },
   "outputs": [
    {
     "name": "stdout",
     "output_type": "stream",
     "text": [
      "All eligible files from '/kaggle/input/rice-leaf-diseases/rice_leaf_diseases/Bacterial leaf blight' successfully resized and copied to '/kaggle/working/data/Rice___bacterial_blight'.\n",
      "Image '/kaggle/input/rice-leaf-diseases/rice_leaf_diseases/Brown spot/DSC_0114.jpg' does not meet size requirements.\n",
      "Skipping file 'DSC_0114.jpg' due to size less than 224 x 224 pixels.\n",
      "Image '/kaggle/input/rice-leaf-diseases/rice_leaf_diseases/Brown spot/DSC_0111.jpg' does not meet size requirements.\n",
      "Skipping file 'DSC_0111.jpg' due to size less than 224 x 224 pixels.\n",
      "Image '/kaggle/input/rice-leaf-diseases/rice_leaf_diseases/Brown spot/DSC_0116.jpg' does not meet size requirements.\n",
      "Skipping file 'DSC_0116.jpg' due to size less than 224 x 224 pixels.\n",
      "Image '/kaggle/input/rice-leaf-diseases/rice_leaf_diseases/Brown spot/DSC_0117.jpg' does not meet size requirements.\n",
      "Skipping file 'DSC_0117.jpg' due to size less than 224 x 224 pixels.\n",
      "Image '/kaggle/input/rice-leaf-diseases/rice_leaf_diseases/Brown spot/DSC_0109.jpg' does not meet size requirements.\n",
      "Skipping file 'DSC_0109.jpg' due to size less than 224 x 224 pixels.\n",
      "Image '/kaggle/input/rice-leaf-diseases/rice_leaf_diseases/Brown spot/DSC_0112.jpg' does not meet size requirements.\n",
      "Skipping file 'DSC_0112.jpg' due to size less than 224 x 224 pixels.\n",
      "Image '/kaggle/input/rice-leaf-diseases/rice_leaf_diseases/Brown spot/DSC_0119.jpg' does not meet size requirements.\n",
      "Skipping file 'DSC_0119.jpg' due to size less than 224 x 224 pixels.\n",
      "Image '/kaggle/input/rice-leaf-diseases/rice_leaf_diseases/Brown spot/DSC_0110.jpg' does not meet size requirements.\n",
      "Skipping file 'DSC_0110.jpg' due to size less than 224 x 224 pixels.\n",
      "Image '/kaggle/input/rice-leaf-diseases/rice_leaf_diseases/Brown spot/DSC_0115.jpg' does not meet size requirements.\n",
      "Skipping file 'DSC_0115.jpg' due to size less than 224 x 224 pixels.\n",
      "Image '/kaggle/input/rice-leaf-diseases/rice_leaf_diseases/Brown spot/DSC_0118.jpg' does not meet size requirements.\n",
      "Skipping file 'DSC_0118.jpg' due to size less than 224 x 224 pixels.\n",
      "All eligible files from '/kaggle/input/rice-leaf-diseases/rice_leaf_diseases/Brown spot' successfully resized and copied to '/kaggle/working/data/Rice___brown_spot'.\n",
      "Image '/kaggle/input/rice-leaf-diseases/rice_leaf_diseases/Leaf smut/DSC_0515.jpg' does not meet size requirements.\n",
      "Skipping file 'DSC_0515.jpg' due to size less than 224 x 224 pixels.\n",
      "Image '/kaggle/input/rice-leaf-diseases/rice_leaf_diseases/Leaf smut/DSC_0512.jpg' does not meet size requirements.\n",
      "Skipping file 'DSC_0512.jpg' due to size less than 224 x 224 pixels.\n",
      "Image '/kaggle/input/rice-leaf-diseases/rice_leaf_diseases/Leaf smut/DSC_0511.jpg' does not meet size requirements.\n",
      "Skipping file 'DSC_0511.jpg' due to size less than 224 x 224 pixels.\n",
      "Image '/kaggle/input/rice-leaf-diseases/rice_leaf_diseases/Leaf smut/DSC_0507.jpg' does not meet size requirements.\n",
      "Skipping file 'DSC_0507.jpg' due to size less than 224 x 224 pixels.\n",
      "Image '/kaggle/input/rice-leaf-diseases/rice_leaf_diseases/Leaf smut/DSC_0510.jpg' does not meet size requirements.\n",
      "Skipping file 'DSC_0510.jpg' due to size less than 224 x 224 pixels.\n",
      "Image '/kaggle/input/rice-leaf-diseases/rice_leaf_diseases/Leaf smut/DSC_0501.jpg' does not meet size requirements.\n",
      "Skipping file 'DSC_0501.jpg' due to size less than 224 x 224 pixels.\n",
      "Image '/kaggle/input/rice-leaf-diseases/rice_leaf_diseases/Leaf smut/DSC_0502.jpg' does not meet size requirements.\n",
      "Skipping file 'DSC_0502.jpg' due to size less than 224 x 224 pixels.\n",
      "Image '/kaggle/input/rice-leaf-diseases/rice_leaf_diseases/Leaf smut/DSC_0504.jpg' does not meet size requirements.\n",
      "Skipping file 'DSC_0504.jpg' due to size less than 224 x 224 pixels.\n",
      "Image '/kaggle/input/rice-leaf-diseases/rice_leaf_diseases/Leaf smut/DSC_0500.jpg' does not meet size requirements.\n",
      "Skipping file 'DSC_0500.jpg' due to size less than 224 x 224 pixels.\n",
      "All eligible files from '/kaggle/input/rice-leaf-diseases/rice_leaf_diseases/Leaf smut' successfully resized and copied to '/kaggle/working/data/Rice___leaf_smut'.\n"
     ]
    }
   ],
   "source": [
    "rice_leaf_base = \"/kaggle/input/rice-leaf-diseases/rice_leaf_diseases\"\n",
    "rice_leaf_map = {\n",
    "    'Bacterial leaf blight': 'Rice___bacterial_blight', \n",
    "    'Brown spot': 'Rice___brown_spot', \n",
    "    'Leaf smut' : 'Rice___leaf_smut'}\n",
    "for class_ in rice_leaf_map.keys():\n",
    "    copy_files(f\"{rice_leaf_base}/{class_}\", f\"{base_dir}/{rice_leaf_map[class_]}\")"
   ]
  },
  {
   "cell_type": "markdown",
   "id": "6702c7dd",
   "metadata": {
    "papermill": {
     "duration": 0.005312,
     "end_time": "2024-06-27T03:44:08.976862",
     "exception": false,
     "start_time": "2024-06-27T03:44:08.971550",
     "status": "completed"
    },
    "tags": []
   },
   "source": [
    "## 2. PlantDoc Classification Dataset\n",
    "1. Apple___scab\n",
    "1. Apple___healthy\n",
    "1. Apple___rust\n",
    "1. Bell_pepper___healthy\n",
    "1. Bell_pepper___bacterial_spot\n",
    "1. Blueberry___healthy\n",
    "1. Cherry___healthy\n",
    "1. Corn___gray_leaf_spot\n",
    "1. Corn___northern_leaf_blight\n",
    "1. Corn___common_rust\n",
    "1. Peach___healthy\n",
    "1. Potato___early_blight\n",
    "1. Potato___late_blight\n",
    "1. Raspberry___healthy\n",
    "1. Soybean___healthy\n",
    "1. Squash___powdery_mildew\n",
    "1. Strawberry___healthy\n",
    "1. Tomato___early_blight\n",
    "1. Tomato___septoria_leaf_spot\n",
    "1. Tomato___healthy\n",
    "1. Tomato___bacterial_spot\n",
    "1. Tomato___late_blight\n",
    "1. Tomato___mosaic_virus\n",
    "1. Tomato___leaf_curl\n",
    "1. Tomato___leaf_mold\n",
    "1. Tomato___spider_mites\n",
    "1. Grape___healthy\n",
    "1. Grape___black_rot"
   ]
  },
  {
   "cell_type": "code",
   "execution_count": 10,
   "id": "a572f56c",
   "metadata": {
    "execution": {
     "iopub.execute_input": "2024-06-27T03:44:08.989313Z",
     "iopub.status.busy": "2024-06-27T03:44:08.988794Z",
     "iopub.status.idle": "2024-06-27T03:45:31.400337Z",
     "shell.execute_reply": "2024-06-27T03:45:31.399383Z"
    },
    "papermill": {
     "duration": 82.420057,
     "end_time": "2024-06-27T03:45:31.402451",
     "exception": false,
     "start_time": "2024-06-27T03:44:08.982394",
     "status": "completed"
    },
    "tags": []
   },
   "outputs": [
    {
     "name": "stdout",
     "output_type": "stream",
     "text": [
      "Image '/kaggle/input/plantdoc-dataset/train/Apple_Scab_Leaf/train_Apple Scab Leaf_24.jpg' does not meet size requirements.\n",
      "Skipping file 'train_Apple Scab Leaf_24.jpg' due to size less than 224 x 224 pixels.\n",
      "Image '/kaggle/input/plantdoc-dataset/train/Apple_Scab_Leaf/train_Apple Scab Leaf_80.jpg' does not meet size requirements.\n",
      "Skipping file 'train_Apple Scab Leaf_80.jpg' due to size less than 224 x 224 pixels.\n",
      "Image '/kaggle/input/plantdoc-dataset/train/Apple_Scab_Leaf/train_Apple Scab Leaf_14.jpg' does not meet size requirements.\n",
      "Skipping file 'train_Apple Scab Leaf_14.jpg' due to size less than 224 x 224 pixels.\n",
      "Image '/kaggle/input/plantdoc-dataset/train/Apple_Scab_Leaf/train_Apple Scab Leaf_79.jpg' does not meet size requirements.\n",
      "Skipping file 'train_Apple Scab Leaf_79.jpg' due to size less than 224 x 224 pixels.\n",
      "Image '/kaggle/input/plantdoc-dataset/train/Apple_Scab_Leaf/train_Apple Scab Leaf_56.jpg' does not meet size requirements.\n",
      "Skipping file 'train_Apple Scab Leaf_56.jpg' due to size less than 224 x 224 pixels.\n",
      "Image '/kaggle/input/plantdoc-dataset/train/Apple_Scab_Leaf/train_Apple Scab Leaf_34.jpg' does not meet size requirements.\n",
      "Skipping file 'train_Apple Scab Leaf_34.jpg' due to size less than 224 x 224 pixels.\n",
      "Image '/kaggle/input/plantdoc-dataset/train/Apple_Scab_Leaf/train_Apple Scab Leaf_36.jpg' does not meet size requirements.\n",
      "Skipping file 'train_Apple Scab Leaf_36.jpg' due to size less than 224 x 224 pixels.\n",
      "Image '/kaggle/input/plantdoc-dataset/train/Apple_Scab_Leaf/train_Apple Scab Leaf_60.jpg' does not meet size requirements.\n",
      "Skipping file 'train_Apple Scab Leaf_60.jpg' due to size less than 224 x 224 pixels.\n",
      "Image '/kaggle/input/plantdoc-dataset/train/Apple_Scab_Leaf/train_Apple Scab Leaf_76.jpg' does not meet size requirements.\n",
      "Skipping file 'train_Apple Scab Leaf_76.jpg' due to size less than 224 x 224 pixels.\n",
      "Image '/kaggle/input/plantdoc-dataset/train/Apple_Scab_Leaf/train_Apple Scab Leaf_67.jpg' does not meet size requirements.\n",
      "Skipping file 'train_Apple Scab Leaf_67.jpg' due to size less than 224 x 224 pixels.\n",
      "Image '/kaggle/input/plantdoc-dataset/train/Apple_Scab_Leaf/train_Apple Scab Leaf_65.jpg' does not meet size requirements.\n",
      "Skipping file 'train_Apple Scab Leaf_65.jpg' due to size less than 224 x 224 pixels.\n",
      "All eligible files from '/kaggle/input/plantdoc-dataset/train/Apple_Scab_Leaf' successfully resized and copied to '/kaggle/working/data/Apple___scab'.\n",
      "Image '/kaggle/input/plantdoc-dataset/test/Apple_Scab_Leaf/test_Apple Scab Leaf_4.jpg' does not meet size requirements.\n",
      "Skipping file 'test_Apple Scab Leaf_4.jpg' due to size less than 224 x 224 pixels.\n",
      "All eligible files from '/kaggle/input/plantdoc-dataset/test/Apple_Scab_Leaf' successfully resized and copied to '/kaggle/working/data/Apple___scab'.\n",
      "All eligible files from '/kaggle/input/plantdoc-dataset/train/Apple_leaf' successfully resized and copied to '/kaggle/working/data/Apple___healthy'.\n",
      "All eligible files from '/kaggle/input/plantdoc-dataset/test/Apple_leaf' successfully resized and copied to '/kaggle/working/data/Apple___healthy'.\n",
      "Image '/kaggle/input/plantdoc-dataset/train/Apple_rust_leaf/train_Apple rust leaf_72.jpg' does not meet size requirements.\n",
      "Skipping file 'train_Apple rust leaf_72.jpg' due to size less than 224 x 224 pixels.\n",
      "Image '/kaggle/input/plantdoc-dataset/train/Apple_rust_leaf/train_Apple rust leaf_62.jpg' does not meet size requirements.\n",
      "Skipping file 'train_Apple rust leaf_62.jpg' due to size less than 224 x 224 pixels.\n",
      "Image '/kaggle/input/plantdoc-dataset/train/Apple_rust_leaf/train_Apple rust leaf_35.jpg' does not meet size requirements.\n",
      "Skipping file 'train_Apple rust leaf_35.jpg' due to size less than 224 x 224 pixels.\n",
      "Image '/kaggle/input/plantdoc-dataset/train/Apple_rust_leaf/train_Apple rust leaf_21.jpg' does not meet size requirements.\n",
      "Skipping file 'train_Apple rust leaf_21.jpg' due to size less than 224 x 224 pixels.\n",
      "Image '/kaggle/input/plantdoc-dataset/train/Apple_rust_leaf/train_Apple rust leaf_31.jpg' does not meet size requirements.\n",
      "Skipping file 'train_Apple rust leaf_31.jpg' due to size less than 224 x 224 pixels.\n",
      "All eligible files from '/kaggle/input/plantdoc-dataset/train/Apple_rust_leaf' successfully resized and copied to '/kaggle/working/data/Apple___rust'.\n",
      "Image '/kaggle/input/plantdoc-dataset/test/Apple_rust_leaf/test_Apple rust leaf_2.jpg' does not meet size requirements.\n",
      "Skipping file 'test_Apple rust leaf_2.jpg' due to size less than 224 x 224 pixels.\n",
      "Image '/kaggle/input/plantdoc-dataset/test/Apple_rust_leaf/test_Apple rust leaf_6.jpg' does not meet size requirements.\n",
      "Skipping file 'test_Apple rust leaf_6.jpg' due to size less than 224 x 224 pixels.\n",
      "All eligible files from '/kaggle/input/plantdoc-dataset/test/Apple_rust_leaf' successfully resized and copied to '/kaggle/working/data/Apple___rust'.\n",
      "All eligible files from '/kaggle/input/plantdoc-dataset/train/Bell_pepper_leaf' successfully resized and copied to '/kaggle/working/data/Bell_pepper___healthy'.\n",
      "All eligible files from '/kaggle/input/plantdoc-dataset/test/Bell_pepper_leaf' successfully resized and copied to '/kaggle/working/data/Bell_pepper___healthy'.\n",
      "Image '/kaggle/input/plantdoc-dataset/train/Bell_pepper_leaf_spot/train_Bell_pepper leaf spot_48.jpg' does not meet size requirements.\n",
      "Skipping file 'train_Bell_pepper leaf spot_48.jpg' due to size less than 224 x 224 pixels.\n",
      "Image '/kaggle/input/plantdoc-dataset/train/Bell_pepper_leaf_spot/train_Bell_pepper leaf spot_3.jpg' does not meet size requirements.\n",
      "Skipping file 'train_Bell_pepper leaf spot_3.jpg' due to size less than 224 x 224 pixels.\n",
      "Image '/kaggle/input/plantdoc-dataset/train/Bell_pepper_leaf_spot/train_Bell_pepper leaf spot_62_1.jpg' does not meet size requirements.\n",
      "Skipping file 'train_Bell_pepper leaf spot_62_1.jpg' due to size less than 224 x 224 pixels.\n",
      "Image '/kaggle/input/plantdoc-dataset/train/Bell_pepper_leaf_spot/train_Bell_pepper leaf spot_18.jpg' does not meet size requirements.\n",
      "Skipping file 'train_Bell_pepper leaf spot_18.jpg' due to size less than 224 x 224 pixels.\n",
      "All eligible files from '/kaggle/input/plantdoc-dataset/train/Bell_pepper_leaf_spot' successfully resized and copied to '/kaggle/working/data/Bell_pepper___bacterial_spot'.\n",
      "Image '/kaggle/input/plantdoc-dataset/test/Bell_pepper_leaf_spot/test_Bell_pepper leaf spot_4.jpg' does not meet size requirements.\n",
      "Skipping file 'test_Bell_pepper leaf spot_4.jpg' due to size less than 224 x 224 pixels.\n",
      "Image '/kaggle/input/plantdoc-dataset/test/Bell_pepper_leaf_spot/test_Bell_pepper leaf spot_1.jpg' does not meet size requirements.\n",
      "Skipping file 'test_Bell_pepper leaf spot_1.jpg' due to size less than 224 x 224 pixels.\n",
      "All eligible files from '/kaggle/input/plantdoc-dataset/test/Bell_pepper_leaf_spot' successfully resized and copied to '/kaggle/working/data/Bell_pepper___bacterial_spot'.\n",
      "All eligible files from '/kaggle/input/plantdoc-dataset/train/Blueberry_leaf' successfully resized and copied to '/kaggle/working/data/Blueberry___healthy'.\n",
      "All eligible files from '/kaggle/input/plantdoc-dataset/test/Blueberry_leaf' successfully resized and copied to '/kaggle/working/data/Blueberry___healthy'.\n",
      "All eligible files from '/kaggle/input/plantdoc-dataset/train/Cherry_leaf' successfully resized and copied to '/kaggle/working/data/Cherry___healthy'.\n",
      "All eligible files from '/kaggle/input/plantdoc-dataset/test/Cherry_leaf' successfully resized and copied to '/kaggle/working/data/Cherry___healthy'.\n",
      "Error: cannot write mode RGBA as JPEG\n",
      "All eligible files from '/kaggle/input/plantdoc-dataset/test/Corn_Gray_leaf_spot' successfully resized and copied to '/kaggle/working/data/Corn___gray_leaf_spot'.\n",
      "Image '/kaggle/input/plantdoc-dataset/train/Corn_leaf_blight/train_Corn leaf blight_2.jpg' does not meet size requirements.\n",
      "Skipping file 'train_Corn leaf blight_2.jpg' due to size less than 224 x 224 pixels.\n",
      "Image '/kaggle/input/plantdoc-dataset/train/Corn_leaf_blight/train_Corn leaf blight_95.jpg' does not meet size requirements.\n",
      "Skipping file 'train_Corn leaf blight_95.jpg' due to size less than 224 x 224 pixels.\n",
      "Image '/kaggle/input/plantdoc-dataset/train/Corn_leaf_blight/train_Corn leaf blight_111.jpg' does not meet size requirements.\n",
      "Skipping file 'train_Corn leaf blight_111.jpg' due to size less than 224 x 224 pixels.\n",
      "Image '/kaggle/input/plantdoc-dataset/train/Corn_leaf_blight/train_Corn leaf blight_73.jpg' does not meet size requirements.\n",
      "Skipping file 'train_Corn leaf blight_73.jpg' due to size less than 224 x 224 pixels.\n",
      "Image '/kaggle/input/plantdoc-dataset/train/Corn_leaf_blight/train_Corn leaf blight_165.jpg' does not meet size requirements.\n",
      "Skipping file 'train_Corn leaf blight_165.jpg' due to size less than 224 x 224 pixels.\n",
      "Image '/kaggle/input/plantdoc-dataset/train/Corn_leaf_blight/train_Corn leaf blight_42.jpg' does not meet size requirements.\n",
      "Skipping file 'train_Corn leaf blight_42.jpg' due to size less than 224 x 224 pixels.\n",
      "Image '/kaggle/input/plantdoc-dataset/train/Corn_leaf_blight/train_Corn leaf blight_67.jpg' does not meet size requirements.\n",
      "Skipping file 'train_Corn leaf blight_67.jpg' due to size less than 224 x 224 pixels.\n",
      "Image '/kaggle/input/plantdoc-dataset/train/Corn_leaf_blight/train_Corn leaf blight_76.jpg' does not meet size requirements.\n",
      "Skipping file 'train_Corn leaf blight_76.jpg' due to size less than 224 x 224 pixels.\n",
      "All eligible files from '/kaggle/input/plantdoc-dataset/train/Corn_leaf_blight' successfully resized and copied to '/kaggle/working/data/Corn___northern_leaf_blight'.\n",
      "Image '/kaggle/input/plantdoc-dataset/test/Corn_leaf_blight/test_Corn leaf blight_1.jpg' does not meet size requirements.\n",
      "Skipping file 'test_Corn leaf blight_1.jpg' due to size less than 224 x 224 pixels.\n",
      "Image '/kaggle/input/plantdoc-dataset/test/Corn_leaf_blight/test_Corn leaf blight_8.jpg' does not meet size requirements.\n",
      "Skipping file 'test_Corn leaf blight_8.jpg' due to size less than 224 x 224 pixels.\n",
      "All eligible files from '/kaggle/input/plantdoc-dataset/test/Corn_leaf_blight' successfully resized and copied to '/kaggle/working/data/Corn___northern_leaf_blight'.\n",
      "Image '/kaggle/input/plantdoc-dataset/train/Corn_rust_leaf/train_Corn rust leaf_61.jpg' does not meet size requirements.\n",
      "Skipping file 'train_Corn rust leaf_61.jpg' due to size less than 224 x 224 pixels.\n",
      "Image '/kaggle/input/plantdoc-dataset/train/Corn_rust_leaf/train_Corn rust leaf_23.jpg' does not meet size requirements.\n",
      "Skipping file 'train_Corn rust leaf_23.jpg' due to size less than 224 x 224 pixels.\n",
      "Error: cannot write mode RGBA as JPEG\n",
      "Image '/kaggle/input/plantdoc-dataset/test/Corn_rust_leaf/test_Corn rust leaf_3.jpg' does not meet size requirements.\n",
      "Skipping file 'test_Corn rust leaf_3.jpg' due to size less than 224 x 224 pixels.\n",
      "All eligible files from '/kaggle/input/plantdoc-dataset/test/Corn_rust_leaf' successfully resized and copied to '/kaggle/working/data/Corn___common_rust'.\n",
      "All eligible files from '/kaggle/input/plantdoc-dataset/train/Peach_leaf' successfully resized and copied to '/kaggle/working/data/Peach___healthy'.\n",
      "All eligible files from '/kaggle/input/plantdoc-dataset/test/Peach_leaf' successfully resized and copied to '/kaggle/working/data/Peach___healthy'.\n",
      "Image '/kaggle/input/plantdoc-dataset/train/Potato_leaf_early_blight/train_Potato leaf early blight_15.jpg' does not meet size requirements.\n",
      "Skipping file 'train_Potato leaf early blight_15.jpg' due to size less than 224 x 224 pixels.\n",
      "All eligible files from '/kaggle/input/plantdoc-dataset/train/Potato_leaf_early_blight' successfully resized and copied to '/kaggle/working/data/Potato___early_blight'.\n",
      "Image '/kaggle/input/plantdoc-dataset/test/Potato_leaf_early_blight/test_Potato leaf early blight_7.jpg' does not meet size requirements.\n",
      "Skipping file 'test_Potato leaf early blight_7.jpg' due to size less than 224 x 224 pixels.\n",
      "All eligible files from '/kaggle/input/plantdoc-dataset/test/Potato_leaf_early_blight' successfully resized and copied to '/kaggle/working/data/Potato___early_blight'.\n",
      "Image '/kaggle/input/plantdoc-dataset/train/Potato_leaf_late_blight/train_Potato leaf late blight_87.jpg' does not meet size requirements.\n",
      "Skipping file 'train_Potato leaf late blight_87.jpg' due to size less than 224 x 224 pixels.\n",
      "Image '/kaggle/input/plantdoc-dataset/train/Potato_leaf_late_blight/train_Potato leaf late blight_67.jpg' does not meet size requirements.\n",
      "Skipping file 'train_Potato leaf late blight_67.jpg' due to size less than 224 x 224 pixels.\n",
      "Image '/kaggle/input/plantdoc-dataset/train/Potato_leaf_late_blight/train_Potato leaf late blight_26.jpg' does not meet size requirements.\n",
      "Skipping file 'train_Potato leaf late blight_26.jpg' due to size less than 224 x 224 pixels.\n",
      "All eligible files from '/kaggle/input/plantdoc-dataset/train/Potato_leaf_late_blight' successfully resized and copied to '/kaggle/working/data/Potato___late_blight'.\n",
      "All eligible files from '/kaggle/input/plantdoc-dataset/test/Potato_leaf_late_blight' successfully resized and copied to '/kaggle/working/data/Potato___late_blight'.\n",
      "All eligible files from '/kaggle/input/plantdoc-dataset/train/Raspberry_leaf' successfully resized and copied to '/kaggle/working/data/Raspberry___healthy'.\n",
      "All eligible files from '/kaggle/input/plantdoc-dataset/test/Raspberry_leaf' successfully resized and copied to '/kaggle/working/data/Raspberry___healthy'.\n",
      "All eligible files from '/kaggle/input/plantdoc-dataset/train/Soyabean_leaf' successfully resized and copied to '/kaggle/working/data/Soybean___healthy'.\n",
      "All eligible files from '/kaggle/input/plantdoc-dataset/test/Soyabean_leaf' successfully resized and copied to '/kaggle/working/data/Soybean___healthy'.\n",
      "Image '/kaggle/input/plantdoc-dataset/train/Squash_Powdery_mildew_leaf/train_Squash Powdery mildew leaf_111.jpg' does not meet size requirements.\n",
      "Skipping file 'train_Squash Powdery mildew leaf_111.jpg' due to size less than 224 x 224 pixels.\n",
      "All eligible files from '/kaggle/input/plantdoc-dataset/train/Squash_Powdery_mildew_leaf' successfully resized and copied to '/kaggle/working/data/Squash___powdery_mildew'.\n",
      "All eligible files from '/kaggle/input/plantdoc-dataset/test/Squash_Powdery_mildew_leaf' successfully resized and copied to '/kaggle/working/data/Squash___powdery_mildew'.\n",
      "All eligible files from '/kaggle/input/plantdoc-dataset/train/Strawberry_leaf' successfully resized and copied to '/kaggle/working/data/Strawberry___healthy'.\n",
      "All eligible files from '/kaggle/input/plantdoc-dataset/test/Strawberry_leaf' successfully resized and copied to '/kaggle/working/data/Strawberry___healthy'.\n",
      "Image '/kaggle/input/plantdoc-dataset/train/Tomato_Early_blight_leaf/train_Tomato Early blight leaf_28.jpg' does not meet size requirements.\n",
      "Skipping file 'train_Tomato Early blight leaf_28.jpg' due to size less than 224 x 224 pixels.\n",
      "Image '/kaggle/input/plantdoc-dataset/train/Tomato_Early_blight_leaf/train_Tomato Early blight leaf_21.jpg' does not meet size requirements.\n",
      "Skipping file 'train_Tomato Early blight leaf_21.jpg' due to size less than 224 x 224 pixels.\n",
      "Image '/kaggle/input/plantdoc-dataset/train/Tomato_Early_blight_leaf/train_Tomato Early blight leaf_77.jpg' does not meet size requirements.\n",
      "Skipping file 'train_Tomato Early blight leaf_77.jpg' due to size less than 224 x 224 pixels.\n",
      "Image '/kaggle/input/plantdoc-dataset/train/Tomato_Early_blight_leaf/train_Tomato Early blight leaf_55.jpg' does not meet size requirements.\n",
      "Skipping file 'train_Tomato Early blight leaf_55.jpg' due to size less than 224 x 224 pixels.\n",
      "Image '/kaggle/input/plantdoc-dataset/train/Tomato_Early_blight_leaf/train_Tomato Early blight leaf_34.jpg' does not meet size requirements.\n",
      "Skipping file 'train_Tomato Early blight leaf_34.jpg' due to size less than 224 x 224 pixels.\n",
      "All eligible files from '/kaggle/input/plantdoc-dataset/train/Tomato_Early_blight_leaf' successfully resized and copied to '/kaggle/working/data/Tomato___early_blight'.\n",
      "Image '/kaggle/input/plantdoc-dataset/test/Tomato_Early_blight_leaf/test_Tomato Early blight leaf_4.jpg' does not meet size requirements.\n",
      "Skipping file 'test_Tomato Early blight leaf_4.jpg' due to size less than 224 x 224 pixels.\n",
      "All eligible files from '/kaggle/input/plantdoc-dataset/test/Tomato_Early_blight_leaf' successfully resized and copied to '/kaggle/working/data/Tomato___early_blight'.\n",
      "Image '/kaggle/input/plantdoc-dataset/train/Tomato_Septoria_leaf_spot/train_Tomato Septoria leaf spot_132.jpg' does not meet size requirements.\n",
      "Skipping file 'train_Tomato Septoria leaf spot_132.jpg' due to size less than 224 x 224 pixels.\n",
      "Image '/kaggle/input/plantdoc-dataset/train/Tomato_Septoria_leaf_spot/train_Tomato Septoria leaf spot_8.jpg' does not meet size requirements.\n",
      "Skipping file 'train_Tomato Septoria leaf spot_8.jpg' due to size less than 224 x 224 pixels.\n",
      "Image '/kaggle/input/plantdoc-dataset/train/Tomato_Septoria_leaf_spot/train_Tomato Septoria leaf spot_123.jpg' does not meet size requirements.\n",
      "Skipping file 'train_Tomato Septoria leaf spot_123.jpg' due to size less than 224 x 224 pixels.\n",
      "Error: cannot write mode RGBA as JPEG\n",
      "All eligible files from '/kaggle/input/plantdoc-dataset/test/Tomato_Septoria_leaf_spot' successfully resized and copied to '/kaggle/working/data/Tomato___septoria_leaf_spot'.\n",
      "All eligible files from '/kaggle/input/plantdoc-dataset/train/Tomato_leaf' successfully resized and copied to '/kaggle/working/data/Tomato___healthy'.\n",
      "All eligible files from '/kaggle/input/plantdoc-dataset/test/Tomato_leaf' successfully resized and copied to '/kaggle/working/data/Tomato___healthy'.\n",
      "Image '/kaggle/input/plantdoc-dataset/train/Tomato_leaf_bacterial_spot/train_Tomato leaf bacterial spot_92.jpg' does not meet size requirements.\n",
      "Skipping file 'train_Tomato leaf bacterial spot_92.jpg' due to size less than 224 x 224 pixels.\n",
      "Image '/kaggle/input/plantdoc-dataset/train/Tomato_leaf_bacterial_spot/train_Tomato leaf bacterial spot_89.jpg' does not meet size requirements.\n",
      "Skipping file 'train_Tomato leaf bacterial spot_89.jpg' due to size less than 224 x 224 pixels.\n",
      "Image '/kaggle/input/plantdoc-dataset/train/Tomato_leaf_bacterial_spot/train_Tomato leaf bacterial spot_33.jpg' does not meet size requirements.\n",
      "Skipping file 'train_Tomato leaf bacterial spot_33.jpg' due to size less than 224 x 224 pixels.\n",
      "Image '/kaggle/input/plantdoc-dataset/train/Tomato_leaf_bacterial_spot/train_Tomato leaf bacterial spot_83.jpg' does not meet size requirements.\n",
      "Skipping file 'train_Tomato leaf bacterial spot_83.jpg' due to size less than 224 x 224 pixels.\n",
      "Image '/kaggle/input/plantdoc-dataset/train/Tomato_leaf_bacterial_spot/train_Tomato leaf bacterial spot_42.jpg' does not meet size requirements.\n",
      "Skipping file 'train_Tomato leaf bacterial spot_42.jpg' due to size less than 224 x 224 pixels.\n",
      "Image '/kaggle/input/plantdoc-dataset/train/Tomato_leaf_bacterial_spot/train_Tomato leaf bacterial spot_29.jpg' does not meet size requirements.\n",
      "Skipping file 'train_Tomato leaf bacterial spot_29.jpg' due to size less than 224 x 224 pixels.\n",
      "Image '/kaggle/input/plantdoc-dataset/train/Tomato_leaf_bacterial_spot/train_Tomato leaf bacterial spot_45.jpg' does not meet size requirements.\n",
      "Skipping file 'train_Tomato leaf bacterial spot_45.jpg' due to size less than 224 x 224 pixels.\n",
      "Image '/kaggle/input/plantdoc-dataset/train/Tomato_leaf_bacterial_spot/train_Tomato leaf bacterial spot_95.jpg' does not meet size requirements.\n",
      "Skipping file 'train_Tomato leaf bacterial spot_95.jpg' due to size less than 224 x 224 pixels.\n",
      "Image '/kaggle/input/plantdoc-dataset/train/Tomato_leaf_bacterial_spot/train_Tomato leaf bacterial spot_70.jpg' does not meet size requirements.\n",
      "Skipping file 'train_Tomato leaf bacterial spot_70.jpg' due to size less than 224 x 224 pixels.\n",
      "Image '/kaggle/input/plantdoc-dataset/train/Tomato_leaf_bacterial_spot/train_Tomato leaf bacterial spot_101.jpg' does not meet size requirements.\n",
      "Skipping file 'train_Tomato leaf bacterial spot_101.jpg' due to size less than 224 x 224 pixels.\n",
      "All eligible files from '/kaggle/input/plantdoc-dataset/train/Tomato_leaf_bacterial_spot' successfully resized and copied to '/kaggle/working/data/Tomato___bacterial_spot'.\n",
      "All eligible files from '/kaggle/input/plantdoc-dataset/test/Tomato_leaf_bacterial_spot' successfully resized and copied to '/kaggle/working/data/Tomato___bacterial_spot'.\n",
      "Image '/kaggle/input/plantdoc-dataset/train/Tomato_leaf_late_blight/train_Tomato leaf late blight_68.jpg' does not meet size requirements.\n",
      "Skipping file 'train_Tomato leaf late blight_68.jpg' due to size less than 224 x 224 pixels.\n",
      "All eligible files from '/kaggle/input/plantdoc-dataset/train/Tomato_leaf_late_blight' successfully resized and copied to '/kaggle/working/data/Tomato___late_blight'.\n",
      "All eligible files from '/kaggle/input/plantdoc-dataset/test/Tomato_leaf_late_blight' successfully resized and copied to '/kaggle/working/data/Tomato___late_blight'.\n",
      "Image '/kaggle/input/plantdoc-dataset/train/Tomato_leaf_mosaic_virus/train_Tomato leaf mosaic virus_20.jpg' does not meet size requirements.\n",
      "Skipping file 'train_Tomato leaf mosaic virus_20.jpg' due to size less than 224 x 224 pixels.\n",
      "Image '/kaggle/input/plantdoc-dataset/train/Tomato_leaf_mosaic_virus/train_Tomato leaf mosaic virus_16.jpg' does not meet size requirements.\n",
      "Skipping file 'train_Tomato leaf mosaic virus_16.jpg' due to size less than 224 x 224 pixels.\n",
      "Image '/kaggle/input/plantdoc-dataset/train/Tomato_leaf_mosaic_virus/train_Tomato leaf mosaic virus_27.jpg' does not meet size requirements.\n",
      "Skipping file 'train_Tomato leaf mosaic virus_27.jpg' due to size less than 224 x 224 pixels.\n",
      "Image '/kaggle/input/plantdoc-dataset/train/Tomato_leaf_mosaic_virus/train_Tomato leaf mosaic virus_1.jpg' does not meet size requirements.\n",
      "Skipping file 'train_Tomato leaf mosaic virus_1.jpg' due to size less than 224 x 224 pixels.\n",
      "Image '/kaggle/input/plantdoc-dataset/train/Tomato_leaf_mosaic_virus/train_Tomato leaf mosaic virus_5.jpg' does not meet size requirements.\n",
      "Skipping file 'train_Tomato leaf mosaic virus_5.jpg' due to size less than 224 x 224 pixels.\n",
      "Image '/kaggle/input/plantdoc-dataset/train/Tomato_leaf_mosaic_virus/train_Tomato leaf mosaic virus_11.jpg' does not meet size requirements.\n",
      "Skipping file 'train_Tomato leaf mosaic virus_11.jpg' due to size less than 224 x 224 pixels.\n",
      "Image '/kaggle/input/plantdoc-dataset/train/Tomato_leaf_mosaic_virus/train_Tomato leaf mosaic virus_6.jpg' does not meet size requirements.\n",
      "Skipping file 'train_Tomato leaf mosaic virus_6.jpg' due to size less than 224 x 224 pixels.\n",
      "Image '/kaggle/input/plantdoc-dataset/train/Tomato_leaf_mosaic_virus/train_Tomato leaf mosaic virus_10.jpg' does not meet size requirements.\n",
      "Skipping file 'train_Tomato leaf mosaic virus_10.jpg' due to size less than 224 x 224 pixels.\n",
      "Image '/kaggle/input/plantdoc-dataset/train/Tomato_leaf_mosaic_virus/train_Tomato leaf mosaic virus_42.jpg' does not meet size requirements.\n",
      "Skipping file 'train_Tomato leaf mosaic virus_42.jpg' due to size less than 224 x 224 pixels.\n",
      "All eligible files from '/kaggle/input/plantdoc-dataset/train/Tomato_leaf_mosaic_virus' successfully resized and copied to '/kaggle/working/data/Tomato___mosaic_virus'.\n",
      "Image '/kaggle/input/plantdoc-dataset/test/Tomato_leaf_mosaic_virus/test_Tomato leaf mosaic virus_8.jpg' does not meet size requirements.\n",
      "Skipping file 'test_Tomato leaf mosaic virus_8.jpg' due to size less than 224 x 224 pixels.\n",
      "All eligible files from '/kaggle/input/plantdoc-dataset/test/Tomato_leaf_mosaic_virus' successfully resized and copied to '/kaggle/working/data/Tomato___mosaic_virus'.\n",
      "Image '/kaggle/input/plantdoc-dataset/train/Tomato_leaf_yellow_virus/train_Tomato leaf yellow virus_36.jpg' does not meet size requirements.\n",
      "Skipping file 'train_Tomato leaf yellow virus_36.jpg' due to size less than 224 x 224 pixels.\n",
      "Image '/kaggle/input/plantdoc-dataset/train/Tomato_leaf_yellow_virus/train_Tomato leaf yellow virus_54.jpg' does not meet size requirements.\n",
      "Skipping file 'train_Tomato leaf yellow virus_54.jpg' due to size less than 224 x 224 pixels.\n",
      "Image '/kaggle/input/plantdoc-dataset/train/Tomato_leaf_yellow_virus/train_Tomato leaf yellow virus_20.jpg' does not meet size requirements.\n",
      "Skipping file 'train_Tomato leaf yellow virus_20.jpg' due to size less than 224 x 224 pixels.\n",
      "Image '/kaggle/input/plantdoc-dataset/train/Tomato_leaf_yellow_virus/train_Tomato leaf yellow virus_42.jpg' does not meet size requirements.\n",
      "Skipping file 'train_Tomato leaf yellow virus_42.jpg' due to size less than 224 x 224 pixels.\n",
      "Image '/kaggle/input/plantdoc-dataset/train/Tomato_leaf_yellow_virus/train_Tomato leaf yellow virus_4.jpg' does not meet size requirements.\n",
      "Skipping file 'train_Tomato leaf yellow virus_4.jpg' due to size less than 224 x 224 pixels.\n",
      "Image '/kaggle/input/plantdoc-dataset/train/Tomato_leaf_yellow_virus/train_Tomato leaf yellow virus_33.jpg' does not meet size requirements.\n",
      "Skipping file 'train_Tomato leaf yellow virus_33.jpg' due to size less than 224 x 224 pixels.\n",
      "All eligible files from '/kaggle/input/plantdoc-dataset/train/Tomato_leaf_yellow_virus' successfully resized and copied to '/kaggle/working/data/Tomato___leaf_curl'.\n",
      "Image '/kaggle/input/plantdoc-dataset/test/Tomato_leaf_yellow_virus/test_Tomato leaf yellow virus_5.jpg' does not meet size requirements.\n",
      "Skipping file 'test_Tomato leaf yellow virus_5.jpg' due to size less than 224 x 224 pixels.\n",
      "All eligible files from '/kaggle/input/plantdoc-dataset/test/Tomato_leaf_yellow_virus' successfully resized and copied to '/kaggle/working/data/Tomato___leaf_curl'.\n",
      "Image '/kaggle/input/plantdoc-dataset/train/Tomato_mold_leaf/train_Tomato mold leaf_66.jpg' does not meet size requirements.\n",
      "Skipping file 'train_Tomato mold leaf_66.jpg' due to size less than 224 x 224 pixels.\n",
      "Image '/kaggle/input/plantdoc-dataset/train/Tomato_mold_leaf/train_Tomato mold leaf_76.jpg' does not meet size requirements.\n",
      "Skipping file 'train_Tomato mold leaf_76.jpg' due to size less than 224 x 224 pixels.\n",
      "Image '/kaggle/input/plantdoc-dataset/train/Tomato_mold_leaf/train_Tomato mold leaf_67.jpg' does not meet size requirements.\n",
      "Skipping file 'train_Tomato mold leaf_67.jpg' due to size less than 224 x 224 pixels.\n",
      "Image '/kaggle/input/plantdoc-dataset/train/Tomato_mold_leaf/train_Tomato mold leaf_4.jpg' does not meet size requirements.\n",
      "Skipping file 'train_Tomato mold leaf_4.jpg' due to size less than 224 x 224 pixels.\n",
      "Image '/kaggle/input/plantdoc-dataset/train/Tomato_mold_leaf/train_Tomato mold leaf_82.jpg' does not meet size requirements.\n",
      "Skipping file 'train_Tomato mold leaf_82.jpg' due to size less than 224 x 224 pixels.\n",
      "Image '/kaggle/input/plantdoc-dataset/train/Tomato_mold_leaf/train_Tomato mold leaf_64.jpg' does not meet size requirements.\n",
      "Skipping file 'train_Tomato mold leaf_64.jpg' due to size less than 224 x 224 pixels.\n",
      "Image '/kaggle/input/plantdoc-dataset/train/Tomato_mold_leaf/train_Tomato mold leaf_49.jpg' does not meet size requirements.\n",
      "Skipping file 'train_Tomato mold leaf_49.jpg' due to size less than 224 x 224 pixels.\n",
      "Image '/kaggle/input/plantdoc-dataset/train/Tomato_mold_leaf/train_Tomato mold leaf_79.jpg' does not meet size requirements.\n",
      "Skipping file 'train_Tomato mold leaf_79.jpg' due to size less than 224 x 224 pixels.\n",
      "Image '/kaggle/input/plantdoc-dataset/train/Tomato_mold_leaf/train_Tomato mold leaf_46.jpg' does not meet size requirements.\n",
      "Skipping file 'train_Tomato mold leaf_46.jpg' due to size less than 224 x 224 pixels.\n",
      "All eligible files from '/kaggle/input/plantdoc-dataset/train/Tomato_mold_leaf' successfully resized and copied to '/kaggle/working/data/Tomato___leaf_mold'.\n",
      "Image '/kaggle/input/plantdoc-dataset/test/Tomato_mold_leaf/test_Tomato mold leaf_3.jpg' does not meet size requirements.\n",
      "Skipping file 'test_Tomato mold leaf_3.jpg' due to size less than 224 x 224 pixels.\n",
      "Image '/kaggle/input/plantdoc-dataset/test/Tomato_mold_leaf/test_Tomato mold leaf_2.jpg' does not meet size requirements.\n",
      "Skipping file 'test_Tomato mold leaf_2.jpg' due to size less than 224 x 224 pixels.\n",
      "All eligible files from '/kaggle/input/plantdoc-dataset/test/Tomato_mold_leaf' successfully resized and copied to '/kaggle/working/data/Tomato___leaf_mold'.\n",
      "All eligible files from '/kaggle/input/plantdoc-dataset/train/Tomato_two_spotted_spider_mites_leaf' successfully resized and copied to '/kaggle/working/data/Tomato___spider_mites'.\n",
      "Error: [Errno 2] No such file or directory: '/kaggle/input/plantdoc-dataset/test/Tomato_two_spotted_spider_mites_leaf'\n",
      "All eligible files from '/kaggle/input/plantdoc-dataset/train/grape_leaf' successfully resized and copied to '/kaggle/working/data/Grape___healthy'.\n",
      "All eligible files from '/kaggle/input/plantdoc-dataset/test/grape_leaf' successfully resized and copied to '/kaggle/working/data/Grape___healthy'.\n",
      "Image '/kaggle/input/plantdoc-dataset/train/grape_leaf_black_rot/train_grape leaf black rot_21.jpg' does not meet size requirements.\n",
      "Skipping file 'train_grape leaf black rot_21.jpg' due to size less than 224 x 224 pixels.\n",
      "Image '/kaggle/input/plantdoc-dataset/train/grape_leaf_black_rot/train_grape leaf black rot_39.jpg' does not meet size requirements.\n",
      "Skipping file 'train_grape leaf black rot_39.jpg' due to size less than 224 x 224 pixels.\n",
      "Image '/kaggle/input/plantdoc-dataset/train/grape_leaf_black_rot/train_grape leaf black rot_18.jpg' does not meet size requirements.\n",
      "Skipping file 'train_grape leaf black rot_18.jpg' due to size less than 224 x 224 pixels.\n",
      "All eligible files from '/kaggle/input/plantdoc-dataset/train/grape_leaf_black_rot' successfully resized and copied to '/kaggle/working/data/Grape___black_rot'.\n",
      "All eligible files from '/kaggle/input/plantdoc-dataset/test/grape_leaf_black_rot' successfully resized and copied to '/kaggle/working/data/Grape___black_rot'.\n"
     ]
    }
   ],
   "source": [
    "plantdoc_base = \"/kaggle/input/plantdoc-dataset/train\"\n",
    "plantdoc_base_1 = \"/kaggle/input/plantdoc-dataset/test\"\n",
    "plantdoc_map = {\n",
    "    'Apple_Scab_Leaf': 'Apple___scab', \n",
    "    'Apple_leaf': 'Apple___healthy', \n",
    "    'Apple_rust_leaf' : 'Apple___rust',\n",
    "    'Bell_pepper_leaf': 'Bell_pepper___healthy',\n",
    "    'Bell_pepper_leaf_spot': 'Bell_pepper___bacterial_spot',\n",
    "    'Blueberry_leaf': 'Blueberry___healthy',\n",
    "    'Cherry_leaf': 'Cherry___healthy',\n",
    "    'Corn_Gray_leaf_spot': 'Corn___gray_leaf_spot',\n",
    "    'Corn_leaf_blight': 'Corn___northern_leaf_blight',\n",
    "    'Corn_rust_leaf': 'Corn___common_rust',\n",
    "    'Peach_leaf': 'Peach___healthy',\n",
    "    'Potato_leaf_early_blight': 'Potato___early_blight',\n",
    "    'Potato_leaf_late_blight': 'Potato___late_blight',\n",
    "    'Raspberry_leaf': 'Raspberry___healthy',\n",
    "    'Soyabean_leaf': 'Soybean___healthy',\n",
    "    'Squash_Powdery_mildew_leaf': 'Squash___powdery_mildew',\n",
    "    'Strawberry_leaf': 'Strawberry___healthy',\n",
    "    'Tomato_Early_blight_leaf': 'Tomato___early_blight',\n",
    "    'Tomato_Septoria_leaf_spot': 'Tomato___septoria_leaf_spot',\n",
    "    'Tomato_leaf': 'Tomato___healthy',\n",
    "    'Tomato_leaf_bacterial_spot': 'Tomato___bacterial_spot',\n",
    "    'Tomato_leaf_late_blight': 'Tomato___late_blight',\n",
    "    'Tomato_leaf_mosaic_virus': 'Tomato___mosaic_virus',\n",
    "    'Tomato_leaf_yellow_virus': 'Tomato___leaf_curl',\n",
    "    'Tomato_mold_leaf': 'Tomato___leaf_mold',\n",
    "    'Tomato_two_spotted_spider_mites_leaf': 'Tomato___spider_mites',\n",
    "    'grape_leaf': 'Grape___healthy',\n",
    "    'grape_leaf_black_rot': 'Grape___black_rot',\n",
    "    \n",
    "}\n",
    "\n",
    "\n",
    "for class_ in plantdoc_map.keys():\n",
    "    copy_files(f\"{plantdoc_base}/{class_}\", f\"{base_dir}/{plantdoc_map[class_]}\")\n",
    "    copy_files(f\"{plantdoc_base_1}/{class_}\", f\"{base_dir}/{plantdoc_map[class_]}\")"
   ]
  },
  {
   "cell_type": "markdown",
   "id": "b2866039",
   "metadata": {
    "papermill": {
     "duration": 0.0119,
     "end_time": "2024-06-27T03:45:31.426962",
     "exception": false,
     "start_time": "2024-06-27T03:45:31.415062",
     "status": "completed"
    },
    "tags": []
   },
   "source": [
    "## 3. Kashmiri Apple Plant Disease Dataset\n",
    "1. Apple___rot\n",
    "1. Apple___healthy\n",
    "1. Apple___leaf_blotch\n",
    "1. Apple___scab"
   ]
  },
  {
   "cell_type": "code",
   "execution_count": 11,
   "id": "820a3568",
   "metadata": {
    "execution": {
     "iopub.execute_input": "2024-06-27T03:45:31.452352Z",
     "iopub.status.busy": "2024-06-27T03:45:31.452043Z",
     "iopub.status.idle": "2024-06-27T03:45:35.844868Z",
     "shell.execute_reply": "2024-06-27T03:45:35.843802Z"
    },
    "papermill": {
     "duration": 4.407787,
     "end_time": "2024-06-27T03:45:35.846832",
     "exception": false,
     "start_time": "2024-06-27T03:45:31.439045",
     "status": "completed"
    },
    "tags": []
   },
   "outputs": [
    {
     "name": "stdout",
     "output_type": "stream",
     "text": [
      "Image '/kaggle/input/d-kap/APPLE_DISEASE_DATASET/APPLE ROT LEAVES/5088.jpg.jpeg' does not meet size requirements.\n",
      "Skipping file '5088.jpg.jpeg' due to size less than 224 x 224 pixels.\n",
      "Image '/kaggle/input/d-kap/APPLE_DISEASE_DATASET/APPLE ROT LEAVES/5000.jpg.jpeg' does not meet size requirements.\n",
      "Skipping file '5000.jpg.jpeg' due to size less than 224 x 224 pixels.\n",
      "Image '/kaggle/input/d-kap/APPLE_DISEASE_DATASET/APPLE ROT LEAVES/4074.jpg.jpeg' does not meet size requirements.\n",
      "Skipping file '4074.jpg.jpeg' due to size less than 224 x 224 pixels.\n",
      "Image '/kaggle/input/d-kap/APPLE_DISEASE_DATASET/APPLE ROT LEAVES/4093.jpg.jpeg' does not meet size requirements.\n",
      "Skipping file '4093.jpg.jpeg' due to size less than 224 x 224 pixels.\n",
      "Image '/kaggle/input/d-kap/APPLE_DISEASE_DATASET/APPLE ROT LEAVES/5014.jpg.jpeg' does not meet size requirements.\n",
      "Skipping file '5014.jpg.jpeg' due to size less than 224 x 224 pixels.\n",
      "Image '/kaggle/input/d-kap/APPLE_DISEASE_DATASET/APPLE ROT LEAVES/5085.jpg.jpeg' does not meet size requirements.\n",
      "Skipping file '5085.jpg.jpeg' due to size less than 224 x 224 pixels.\n",
      "Image '/kaggle/input/d-kap/APPLE_DISEASE_DATASET/APPLE ROT LEAVES/4054.jpg.jpeg' does not meet size requirements.\n",
      "Skipping file '4054.jpg.jpeg' due to size less than 224 x 224 pixels.\n",
      "Image '/kaggle/input/d-kap/APPLE_DISEASE_DATASET/APPLE ROT LEAVES/4055.jpg.jpeg' does not meet size requirements.\n",
      "Skipping file '4055.jpg.jpeg' due to size less than 224 x 224 pixels.\n",
      "Image '/kaggle/input/d-kap/APPLE_DISEASE_DATASET/APPLE ROT LEAVES/4068.jpg.jpeg' does not meet size requirements.\n",
      "Skipping file '4068.jpg.jpeg' due to size less than 224 x 224 pixels.\n",
      "Image '/kaggle/input/d-kap/APPLE_DISEASE_DATASET/APPLE ROT LEAVES/5007.jpg.jpeg' does not meet size requirements.\n",
      "Skipping file '5007.jpg.jpeg' due to size less than 224 x 224 pixels.\n",
      "Image '/kaggle/input/d-kap/APPLE_DISEASE_DATASET/APPLE ROT LEAVES/4061.jpg.jpeg' does not meet size requirements.\n",
      "Skipping file '4061.jpg.jpeg' due to size less than 224 x 224 pixels.\n",
      "Image '/kaggle/input/d-kap/APPLE_DISEASE_DATASET/APPLE ROT LEAVES/5061.jpg.jpeg' does not meet size requirements.\n",
      "Skipping file '5061.jpg.jpeg' due to size less than 224 x 224 pixels.\n",
      "Image '/kaggle/input/d-kap/APPLE_DISEASE_DATASET/APPLE ROT LEAVES/5060.jpg.jpeg' does not meet size requirements.\n",
      "Skipping file '5060.jpg.jpeg' due to size less than 224 x 224 pixels.\n",
      "Image '/kaggle/input/d-kap/APPLE_DISEASE_DATASET/APPLE ROT LEAVES/WhatsApp Image 2022-07-04 at 7.37.35 PM (12).jpeg' does not meet size requirements.\n",
      "Skipping file 'WhatsApp Image 2022-07-04 at 7.37.35 PM (12).jpeg' due to size less than 224 x 224 pixels.\n",
      "Image '/kaggle/input/d-kap/APPLE_DISEASE_DATASET/APPLE ROT LEAVES/4092.jpg.jpeg' does not meet size requirements.\n",
      "Skipping file '4092.jpg.jpeg' due to size less than 224 x 224 pixels.\n",
      "All eligible files from '/kaggle/input/d-kap/APPLE_DISEASE_DATASET/APPLE ROT LEAVES' successfully resized and copied to '/kaggle/working/data/Apple___rot'.\n",
      "Image '/kaggle/input/d-kap/APPLE_DISEASE_DATASET/HEALTHY LEAVES/1057.jpg.jpeg' does not meet size requirements.\n",
      "Skipping file '1057.jpg.jpeg' due to size less than 224 x 224 pixels.\n",
      "Image '/kaggle/input/d-kap/APPLE_DISEASE_DATASET/HEALTHY LEAVES/1056.JPG.jpeg' does not meet size requirements.\n",
      "Skipping file '1056.JPG.jpeg' due to size less than 224 x 224 pixels.\n",
      "All eligible files from '/kaggle/input/d-kap/APPLE_DISEASE_DATASET/HEALTHY LEAVES' successfully resized and copied to '/kaggle/working/data/Apple___healthy'.\n",
      "Image '/kaggle/input/d-kap/APPLE_DISEASE_DATASET/LEAF BLOTCH/2072.jpg.jpeg' does not meet size requirements.\n",
      "Skipping file '2072.jpg.jpeg' due to size less than 224 x 224 pixels.\n",
      "Image '/kaggle/input/d-kap/APPLE_DISEASE_DATASET/LEAF BLOTCH/1083.jpg.jpeg' does not meet size requirements.\n",
      "Skipping file '1083.jpg.jpeg' due to size less than 224 x 224 pixels.\n",
      "Image '/kaggle/input/d-kap/APPLE_DISEASE_DATASET/LEAF BLOTCH/1088.jpg.jpeg' does not meet size requirements.\n",
      "Skipping file '1088.jpg.jpeg' due to size less than 224 x 224 pixels.\n",
      "Image '/kaggle/input/d-kap/APPLE_DISEASE_DATASET/LEAF BLOTCH/2007.jpg.jpeg' does not meet size requirements.\n",
      "Skipping file '2007.jpg.jpeg' due to size less than 224 x 224 pixels.\n",
      "Image '/kaggle/input/d-kap/APPLE_DISEASE_DATASET/LEAF BLOTCH/5067.jpg.jpeg' does not meet size requirements.\n",
      "Skipping file '5067.jpg.jpeg' due to size less than 224 x 224 pixels.\n",
      "Image '/kaggle/input/d-kap/APPLE_DISEASE_DATASET/LEAF BLOTCH/5029.jpg.jpeg' does not meet size requirements.\n",
      "Skipping file '5029.jpg.jpeg' due to size less than 224 x 224 pixels.\n",
      "Image '/kaggle/input/d-kap/APPLE_DISEASE_DATASET/LEAF BLOTCH/5031.jpg.jpeg' does not meet size requirements.\n",
      "Skipping file '5031.jpg.jpeg' due to size less than 224 x 224 pixels.\n",
      "Image '/kaggle/input/d-kap/APPLE_DISEASE_DATASET/LEAF BLOTCH/5072.jpg.jpeg' does not meet size requirements.\n",
      "Skipping file '5072.jpg.jpeg' due to size less than 224 x 224 pixels.\n",
      "Image '/kaggle/input/d-kap/APPLE_DISEASE_DATASET/LEAF BLOTCH/1099.jpg.jpeg' does not meet size requirements.\n",
      "Skipping file '1099.jpg.jpeg' due to size less than 224 x 224 pixels.\n",
      "Image '/kaggle/input/d-kap/APPLE_DISEASE_DATASET/LEAF BLOTCH/5043.jpg.jpeg' does not meet size requirements.\n",
      "Skipping file '5043.jpg.jpeg' due to size less than 224 x 224 pixels.\n",
      "Image '/kaggle/input/d-kap/APPLE_DISEASE_DATASET/LEAF BLOTCH/5030.jpg.jpeg' does not meet size requirements.\n",
      "Skipping file '5030.jpg.jpeg' due to size less than 224 x 224 pixels.\n",
      "Image '/kaggle/input/d-kap/APPLE_DISEASE_DATASET/LEAF BLOTCH/5066.jpg.jpeg' does not meet size requirements.\n",
      "Skipping file '5066.jpg.jpeg' due to size less than 224 x 224 pixels.\n",
      "All eligible files from '/kaggle/input/d-kap/APPLE_DISEASE_DATASET/LEAF BLOTCH' successfully resized and copied to '/kaggle/working/data/Apple___leaf_blotch'.\n",
      "Image '/kaggle/input/d-kap/APPLE_DISEASE_DATASET/SCAB LEAVES/1016.JPG.jpeg' does not meet size requirements.\n",
      "Skipping file '1016.JPG.jpeg' due to size less than 224 x 224 pixels.\n",
      "Image '/kaggle/input/d-kap/APPLE_DISEASE_DATASET/SCAB LEAVES/5041.jpg.jpeg' does not meet size requirements.\n",
      "Skipping file '5041.jpg.jpeg' due to size less than 224 x 224 pixels.\n",
      "Image '/kaggle/input/d-kap/APPLE_DISEASE_DATASET/SCAB LEAVES/5038.jpg.jpeg' does not meet size requirements.\n",
      "Skipping file '5038.jpg.jpeg' due to size less than 224 x 224 pixels.\n",
      "Image '/kaggle/input/d-kap/APPLE_DISEASE_DATASET/SCAB LEAVES/5078.jpg.jpeg' does not meet size requirements.\n",
      "Skipping file '5078.jpg.jpeg' due to size less than 224 x 224 pixels.\n",
      "Image '/kaggle/input/d-kap/APPLE_DISEASE_DATASET/SCAB LEAVES/5053.jpg.jpeg' does not meet size requirements.\n",
      "Skipping file '5053.jpg.jpeg' due to size less than 224 x 224 pixels.\n",
      "Image '/kaggle/input/d-kap/APPLE_DISEASE_DATASET/SCAB LEAVES/4044.jpg.jpeg' does not meet size requirements.\n",
      "Skipping file '4044.jpg.jpeg' due to size less than 224 x 224 pixels.\n",
      "Image '/kaggle/input/d-kap/APPLE_DISEASE_DATASET/SCAB LEAVES/5042.jpg.jpeg' does not meet size requirements.\n",
      "Skipping file '5042.jpg.jpeg' due to size less than 224 x 224 pixels.\n",
      "Image '/kaggle/input/d-kap/APPLE_DISEASE_DATASET/SCAB LEAVES/5037.jpg.jpeg' does not meet size requirements.\n",
      "Skipping file '5037.jpg.jpeg' due to size less than 224 x 224 pixels.\n",
      "All eligible files from '/kaggle/input/d-kap/APPLE_DISEASE_DATASET/SCAB LEAVES' successfully resized and copied to '/kaggle/working/data/Apple___scab'.\n"
     ]
    }
   ],
   "source": [
    "kashmiri_apple_base = \"/kaggle/input/d-kap/APPLE_DISEASE_DATASET\"\n",
    "kashmiri_apple_map = {\n",
    "    'APPLE ROT LEAVES': 'Apple___rot', \n",
    "    'HEALTHY LEAVES': 'Apple___healthy', \n",
    "    'LEAF BLOTCH' : 'Apple___leaf_blotch',\n",
    "    'SCAB LEAVES' : 'Apple___scab'}\n",
    "for class_ in kashmiri_apple_map.keys():\n",
    "    copy_files(f\"{kashmiri_apple_base}/{class_}\", f\"{base_dir}/{kashmiri_apple_map[class_]}\")"
   ]
  },
  {
   "cell_type": "markdown",
   "id": "3b277202",
   "metadata": {
    "papermill": {
     "duration": 0.013008,
     "end_time": "2024-06-27T03:45:35.873304",
     "exception": false,
     "start_time": "2024-06-27T03:45:35.860296",
     "status": "completed"
    },
    "tags": []
   },
   "source": [
    "## 4. Grapes 400 Dataset\n",
    "1. Grape___black_measles\n",
    "2. Grape___black_rot\n",
    "3. Grape___healthy\n",
    "4. Grape___leaf_blight"
   ]
  },
  {
   "cell_type": "code",
   "execution_count": 12,
   "id": "7e30c7e7",
   "metadata": {
    "execution": {
     "iopub.execute_input": "2024-06-27T03:45:35.900954Z",
     "iopub.status.busy": "2024-06-27T03:45:35.900663Z",
     "iopub.status.idle": "2024-06-27T03:45:46.000470Z",
     "shell.execute_reply": "2024-06-27T03:45:45.999433Z"
    },
    "papermill": {
     "duration": 10.116087,
     "end_time": "2024-06-27T03:45:46.002607",
     "exception": false,
     "start_time": "2024-06-27T03:45:35.886520",
     "status": "completed"
    },
    "tags": []
   },
   "outputs": [
    {
     "name": "stdout",
     "output_type": "stream",
     "text": [
      "All eligible files from '/kaggle/input/grape400-dataset/BlackMeasles' successfully resized and copied to '/kaggle/working/data/Grape___black_measles'.\n",
      "All eligible files from '/kaggle/input/grape400-dataset/BlackRot' successfully resized and copied to '/kaggle/working/data/Grape___black_rot'.\n",
      "All eligible files from '/kaggle/input/grape400-dataset/HealthyGrapes' successfully resized and copied to '/kaggle/working/data/Grape___healthy'.\n",
      "All eligible files from '/kaggle/input/grape400-dataset/LeafBlight' successfully resized and copied to '/kaggle/working/data/Grape___leaf_blight'.\n"
     ]
    }
   ],
   "source": [
    "grape400_base = \"/kaggle/input/grape400-dataset\"\n",
    "grape400_map={\n",
    "    'BlackMeasles': 'Grape___black_measles',    \n",
    "    'BlackRot': 'Grape___black_rot',\n",
    "    'HealthyGrapes': 'Grape___healthy',\n",
    "    'LeafBlight': 'Grape___leaf_blight',\n",
    "}\n",
    "for class_ in grape400_map.keys():\n",
    "    copy_files(f\"{grape400_base}/{class_}\", f\"{base_dir}/{grape400_map[class_]}\")"
   ]
  }
 ],
 "metadata": {
  "kaggle": {
   "accelerator": "nvidiaTeslaT4",
   "dataSources": [
    {
     "datasetId": 522658,
     "sourceId": 959791,
     "sourceType": "datasetVersion"
    },
    {
     "datasetId": 2464177,
     "sourceId": 4176149,
     "sourceType": "datasetVersion"
    },
    {
     "datasetId": 3923798,
     "sourceId": 8796786,
     "sourceType": "datasetVersion"
    },
    {
     "datasetId": 4330898,
     "sourceId": 7440986,
     "sourceType": "datasetVersion"
    }
   ],
   "dockerImageVersionId": 30635,
   "isGpuEnabled": true,
   "isInternetEnabled": true,
   "language": "python",
   "sourceType": "notebook"
  },
  "kernelspec": {
   "display_name": "Python 3",
   "language": "python",
   "name": "python3"
  },
  "language_info": {
   "codemirror_mode": {
    "name": "ipython",
    "version": 3
   },
   "file_extension": ".py",
   "mimetype": "text/x-python",
   "name": "python",
   "nbconvert_exporter": "python",
   "pygments_lexer": "ipython3",
   "version": "3.10.12"
  },
  "papermill": {
   "default_parameters": {},
   "duration": 105.87909,
   "end_time": "2024-06-27T03:45:46.335091",
   "environment_variables": {},
   "exception": null,
   "input_path": "__notebook__.ipynb",
   "output_path": "__notebook__.ipynb",
   "parameters": {},
   "start_time": "2024-06-27T03:44:00.456001",
   "version": "2.4.0"
  }
 },
 "nbformat": 4,
 "nbformat_minor": 5
}
